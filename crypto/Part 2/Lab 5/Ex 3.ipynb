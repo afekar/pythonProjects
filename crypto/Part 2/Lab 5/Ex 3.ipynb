{
 "cells": [
  {
   "cell_type": "code",
   "execution_count": 115,
   "metadata": {},
   "outputs": [],
   "source": [
    "import sympy\n",
    "def power_mod(base, exponent, n):\n",
    "    base = sympy.Integer(base)\n",
    "    exponent = sympy.Integer(exponent)\n",
    "    n = sympy.Integer(n)\n",
    "    x = sympy.Integer(1)\n",
    "    e = exponent\n",
    "    c = sympy.Mod(base, n)\n",
    "    vals = [c]\n",
    "    x += 1\n",
    "    while x <= exponent:\n",
    "        c = sympy.Mod(c**2, n)\n",
    "        vals.append(c)\n",
    "        x *= 2\n",
    "\n",
    "    x /= 2\n",
    "    answer = sympy.Integer(1)\n",
    "    while len(vals) > 0:\n",
    "        nextv = vals.pop()\n",
    "        if x <= e:\n",
    "            answer = sympy.Mod(nextv*answer, n)\n",
    "            e -= x\n",
    "            if e == 0:\n",
    "                break\n",
    "        x /= 2\n",
    "    return answer"
   ]
  },
  {
   "cell_type": "code",
   "execution_count": 116,
   "metadata": {},
   "outputs": [],
   "source": [
    "def Paillier_gen(p,q):\n",
    "    n=p*q\n",
    "    fi=(p-1)*(q-1)\n",
    "    lamb=fi/gcd(p-1,q-1)\n",
    "    n2=n*n\n",
    "    while True:\n",
    "        g=randrange(2,n2)\n",
    "        if gcd(g,p)==1 and gcd(g,q)==1:\n",
    "            break\n",
    "    mu=power_mod(g,lamb,n2)\n",
    "    mu=int(math.floor((mu-1)/n))\n",
    "    mu=inverse_mod(int(mu),n)\n",
    "    return (n,g,lamb,mu)"
   ]
  },
  {
   "cell_type": "code",
   "execution_count": 117,
   "metadata": {},
   "outputs": [
    {
     "name": "stdout",
     "output_type": "stream",
     "text": [
      "209 37112 90 178\n"
     ]
    }
   ],
   "source": [
    "n,g,lamb,mu = Paillier_gen(11,19)\n",
    "print(n,g,lamb,mu)"
   ]
  },
  {
   "cell_type": "code",
   "execution_count": 118,
   "metadata": {},
   "outputs": [],
   "source": [
    "def Paillier_enc(m,n,g):\n",
    "    n2=n*n\n",
    "    while True:\n",
    "        r=randrange(2,n)\n",
    "        if gcd(r,n)==1:\n",
    "            break\n",
    "    c=power_mod(g,m,n2)*power_mod(r,n,n2)%n2\n",
    "    return c"
   ]
  },
  {
   "cell_type": "code",
   "execution_count": 72,
   "metadata": {},
   "outputs": [
    {
     "name": "stdout",
     "output_type": "stream",
     "text": [
      "20\n"
     ]
    }
   ],
   "source": [
    "c=Paillier_enc(34,n,g)"
   ]
  },
  {
   "cell_type": "code",
   "execution_count": 119,
   "metadata": {},
   "outputs": [],
   "source": [
    "def Paillier_dec(c,lamb,mu,n):\n",
    "    n2=n*n\n",
    "    chunk=power_mod(c,lamb,n2)\n",
    "    m=math.floor((chunk-1)/n)*mu%n\n",
    "    return m"
   ]
  },
  {
   "cell_type": "code",
   "execution_count": 74,
   "metadata": {},
   "outputs": [
    {
     "data": {
      "text/latex": [
       "$\\displaystyle 34$"
      ],
      "text/plain": [
       "34"
      ]
     },
     "execution_count": 74,
     "metadata": {},
     "output_type": "execute_result"
    }
   ],
   "source": [
    "Paillier_dec(c,lamb,mu,n)"
   ]
  },
  {
   "cell_type": "code",
   "execution_count": 138,
   "metadata": {},
   "outputs": [
    {
     "name": "stdout",
     "output_type": "stream",
     "text": [
      "Победитель: 9\n"
     ]
    }
   ],
   "source": [
    "members=10\n",
    "tickets=[]\n",
    "c=1\n",
    "for i in range(members):\n",
    "    random=randrange(2,n)\n",
    "    tickets.append(Paillier_enc(random,n,g))\n",
    "    c*=tickets[i]\n",
    "s=Paillier_dec(c,lamb,mu,n)%members+1\n",
    "print('Победитель:',s)"
   ]
  },
  {
   "cell_type": "code",
   "execution_count": null,
   "metadata": {},
   "outputs": [],
   "source": []
  }
 ],
 "metadata": {
  "kernelspec": {
   "display_name": "SageMath 9.2",
   "language": "sage",
   "name": "sagemath"
  },
  "language_info": {
   "codemirror_mode": {
    "name": "ipython",
    "version": 3
   },
   "file_extension": ".py",
   "mimetype": "text/x-python",
   "name": "python",
   "nbconvert_exporter": "python",
   "pygments_lexer": "ipython3",
   "version": "3.7.7"
  }
 },
 "nbformat": 4,
 "nbformat_minor": 4
}
