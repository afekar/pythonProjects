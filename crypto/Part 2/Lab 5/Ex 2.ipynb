{
 "cells": [
  {
   "cell_type": "code",
   "execution_count": 14,
   "metadata": {},
   "outputs": [],
   "source": [
    "import random\n",
    "def zk_cave(secret):\n",
    "    flag=True\n",
    "    print('Али Баба зайди в пещеру')\n",
    "    print('Разбойник выйди из пещеры')\n",
    "    if secret==True:\n",
    "        r=random.randrange(0,2)\n",
    "        if r==0:\n",
    "            print('Али Баба выйди слева')\n",
    "            print('Али баба выходит с левой стороны')\n",
    "        if r==1:\n",
    "            print('Али Баба выйди справа')\n",
    "            print('Али баба выходит с правой стороны')\n",
    "    else:\n",
    "        r=random.randrange(0,2)\n",
    "        s=random.randrange(0,2)\n",
    "        if s==0:\n",
    "            print('Али Баба прячется в левом тоннеле')\n",
    "            if r==0:\n",
    "                print('Али Баба выйди слева')\n",
    "                print('Али баба выходит с левой стороны')\n",
    "            else:\n",
    "                print('Али Баба выйди справа')\n",
    "                print('Али баба выходит с левой стороны')\n",
    "                flag=False\n",
    "        else:\n",
    "            print('Али Баба прячется в правом тоннеле')\n",
    "            if r==0:\n",
    "                print('Али Баба выйди слева')\n",
    "                print('Али баба выходит с правой стороны')\n",
    "                flag=False\n",
    "            else:\n",
    "                print('Али Баба выйди справа')\n",
    "                print('Али баба выходит с правой стороны')\n",
    "        if flag==False:\n",
    "            print('Али Баба не знает секрета или пытается меня обмануть!')\n",
    "        else:\n",
    "            print('Али Баба действительно знает секрет или ему везёт!')\n",
    "    return flag"
   ]
  },
  {
   "cell_type": "code",
   "execution_count": 24,
   "metadata": {},
   "outputs": [],
   "source": [
    "def main():\n",
    "    flag=1\n",
    "    for i in range(5):\n",
    "        flag=zk_cave(0)\n",
    "        if flag==False:\n",
    "            print('Али Баба не смог выйти с нужной стороны, количество испытаний:',i+1)\n",
    "            break\n",
    "        else:\n",
    "            print('Али Баба смог выйти с нужной стороны, количество испытаний:',i+1)"
   ]
  },
  {
   "cell_type": "code",
   "execution_count": 26,
   "metadata": {},
   "outputs": [
    {
     "name": "stdout",
     "output_type": "stream",
     "text": [
      "Али Баба зайди в пещеру\n",
      "Разбойник выйди из пещеры\n",
      "Али Баба прячется в левом тоннеле\n",
      "Али Баба выйди слева\n",
      "Али баба выходит с левой стороны\n",
      "Али Баба действительно знает секрет или ему везёт!\n",
      "Али Баба смог выйти с нужной стороны, количество испытаний: 1\n",
      "Али Баба зайди в пещеру\n",
      "Разбойник выйди из пещеры\n",
      "Али Баба прячется в левом тоннеле\n",
      "Али Баба выйди слева\n",
      "Али баба выходит с левой стороны\n",
      "Али Баба действительно знает секрет или ему везёт!\n",
      "Али Баба смог выйти с нужной стороны, количество испытаний: 2\n",
      "Али Баба зайди в пещеру\n",
      "Разбойник выйди из пещеры\n",
      "Али Баба прячется в левом тоннеле\n",
      "Али Баба выйди справа\n",
      "Али баба выходит с левой стороны\n",
      "Али Баба не знает секрета или пытается меня обмануть!\n",
      "Али Баба не смог выйти с нужной стороны, количество испытаний: 3\n"
     ]
    }
   ],
   "source": [
    "main()"
   ]
  },
  {
   "cell_type": "code",
   "execution_count": null,
   "metadata": {},
   "outputs": [],
   "source": []
  }
 ],
 "metadata": {
  "kernelspec": {
   "display_name": "Python 3",
   "language": "python",
   "name": "python3"
  },
  "language_info": {
   "codemirror_mode": {
    "name": "ipython",
    "version": 3
   },
   "file_extension": ".py",
   "mimetype": "text/x-python",
   "name": "python",
   "nbconvert_exporter": "python",
   "pygments_lexer": "ipython3",
   "version": "3.7.7"
  }
 },
 "nbformat": 4,
 "nbformat_minor": 4
}
