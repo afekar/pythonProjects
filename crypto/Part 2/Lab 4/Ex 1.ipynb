{
 "cells": [
  {
   "cell_type": "code",
   "execution_count": 2,
   "metadata": {},
   "outputs": [],
   "source": [
    "import sympy\n",
    "def power_mod(base, exponent, n):\n",
    "    base = sympy.Integer(base)\n",
    "    exponent = sympy.Integer(exponent)\n",
    "    n = sympy.Integer(n)\n",
    "    x = sympy.Integer(1)\n",
    "    e = exponent\n",
    "    c = sympy.Mod(base, n)\n",
    "    vals = [c]\n",
    "    x += 1\n",
    "    while x <= exponent:\n",
    "        c = sympy.Mod(c**2, n)\n",
    "        vals.append(c)\n",
    "        x *= 2\n",
    "\n",
    "    x /= 2\n",
    "    answer = sympy.Integer(1)\n",
    "    while len(vals) > 0:\n",
    "        nextv = vals.pop()\n",
    "        if x <= e:\n",
    "            answer = sympy.Mod(nextv*answer, n)\n",
    "            e -= x\n",
    "            if e == 0:\n",
    "                break\n",
    "        x /= 2\n",
    "    return answer"
   ]
  },
  {
   "cell_type": "code",
   "execution_count": 6,
   "metadata": {},
   "outputs": [],
   "source": [
    "def Pepin_test(n):\n",
    "    b=3\n",
    "    power= 2 ** n -1\n",
    "    fermat_number = 2 ** (2 ** n) + 1\n",
    "    for i in range(1,power+1):\n",
    "        b=power_mod(b,2,fermat_number)\n",
    "    if b == fermat_number-1:\n",
    "        return print('Число простое \\nF',n,' = ',fermat_number)\n",
    "    else:\n",
    "        return print('Число составное \\nF',n,' = ',fermat_number)"
   ]
  },
  {
   "cell_type": "code",
   "execution_count": 2,
   "metadata": {},
   "outputs": [],
   "source": [
    "def LLT(n):\n",
    "    s=4\n",
    "    k=1\n",
    "    M=2**n-1\n",
    "    while k!=n-1:\n",
    "        s=(power_mod(s,2,M)-2)%M\n",
    "        k+=1\n",
    "    if s==0:\n",
    "        return print('Число простое','2 ^',n,'- 1 = ',M)\n",
    "    else:\n",
    "        return print('Число составное','2 ^',n,'- 1 = ',M)"
   ]
  },
  {
   "cell_type": "code",
   "execution_count": 1,
   "metadata": {},
   "outputs": [],
   "source": [
    "from sage.misc.getusage import get_memory_usage\n",
    "mem=get_memory_usage()"
   ]
  },
  {
   "cell_type": "code",
   "execution_count": 8,
   "metadata": {},
   "outputs": [
    {
     "name": "stdout",
     "output_type": "stream",
     "text": [
      "4099\n",
      "18446744073709551617  - составное\n",
      "2.51953125\n"
     ]
    }
   ],
   "source": [
    "#LLT(32)\n",
    "#Pepin_test(6)\n",
    "AKS(18446744073709551617)\n",
    "print(get_memory_usage()-mem)"
   ]
  },
  {
   "cell_type": "code",
   "execution_count": 4,
   "metadata": {},
   "outputs": [
    {
     "name": "stdout",
     "output_type": "stream",
     "text": [
      "Число простое \n",
      "F 4  =  65537\n"
     ]
    }
   ],
   "source": [
    "Pepin_test(4) # 2^(2^n)+1 \n",
    "#LLT(15) # 2^n-1"
   ]
  },
  {
   "cell_type": "code",
   "execution_count": 5,
   "metadata": {},
   "outputs": [
    {
     "name": "stdout",
     "output_type": "stream",
     "text": [
      "Число составное 2 ^ 11 - 1 =  2047\n",
      "Число простое 2 ^ 5 - 1 =  31\n"
     ]
    }
   ],
   "source": [
    "LLT(11) # 2^n-1"
   ]
  },
  {
   "cell_type": "code",
   "execution_count": 1,
   "metadata": {},
   "outputs": [],
   "source": [
    "def stage1(n):\n",
    "    for b in range(2, math.floor(math.log2(n) + 1)):\n",
    "        a = n ** (1 / b)\n",
    "        if a.is_integer():\n",
    "            print(n,' - составное')\n",
    "            return False\n",
    "    return True\n",
    "\n",
    "def stage2(n):\n",
    "    mk = math.floor(math.log2(n) ** 2)\n",
    "    nextr = True\n",
    "    r = 1\n",
    "    while nextr:\n",
    "        r += 1\n",
    "        nextr = False\n",
    "        k = 0\n",
    "        while k <= mk and not nextr:\n",
    "            k += 1\n",
    "            if power_mod(n, k, r) in (0, 1):\n",
    "                nextr = True\n",
    "    return r\n",
    "\n",
    "def stage3(n, r):\n",
    "    for a in range(100, 1, -1):\n",
    "        temp=gcd(a,n)\n",
    "        if temp<n and temp>1:\n",
    "            print(temp,' - делитель')\n",
    "            return False\n",
    "    return True\n",
    "\n",
    "def stage4(n, r):\n",
    "    if n <=r:\n",
    "        return True\n",
    "    return False\n",
    "\n",
    "def phi(n):\n",
    "    result=0\n",
    "    for k in range(2, n+1):\n",
    "        if gcd(k, n) == 1:\n",
    "            result+=1\n",
    "    return result\n",
    "\n",
    "def stage5(n, r):\n",
    "    eul=math.sqrt(phi(r))\n",
    "    max=math.floor(eul*math.log2(n)) # upper bound\n",
    "    print(r)\n",
    "    for a in range(1,max+1):\n",
    "        b=power_mod(a,n,n)\n",
    "        if b - a !=0:\n",
    "            return False\n",
    "    return True"
   ]
  },
  {
   "cell_type": "code",
   "execution_count": 2,
   "metadata": {},
   "outputs": [],
   "source": [
    "def AKS(n):\n",
    "    if stage1(n):\n",
    "        r = stage2(n)\n",
    "        if stage3(n, r) and stage4(n, r) == True:\n",
    "            print(n,' - простое, этапы 3 и 4')\n",
    "        elif stage5(n, r)==True:\n",
    "            print(n,' - простое, этап 5')\n",
    "        else:\n",
    "            print(n,' - составное')"
   ]
  },
  {
   "cell_type": "code",
   "execution_count": 8,
   "metadata": {},
   "outputs": [
    {
     "name": "stdout",
     "output_type": "stream",
     "text": [
      "1583\n",
      "907773379987  - составное\n"
     ]
    }
   ],
   "source": [
    "def main():\n",
    "    AKS(950557*954991)\n",
    "    #Pepin_test(5) # 2^(2^n)+1 \n",
    "    #LLT(32) # 2^n-1\n",
    "if __name__ == '__main__':\n",
    "    main()"
   ]
  },
  {
   "cell_type": "code",
   "execution_count": 24,
   "metadata": {},
   "outputs": [
    {
     "name": "stdout",
     "output_type": "stream",
     "text": [
      "101  - простое, этап 5\n",
      "65537  - простое, этап 5\n",
      "20  - делитель\n",
      "140  - составное\n"
     ]
    }
   ],
   "source": [
    "AKS(101)\n",
    "AKS(65537)\n",
    "AKS(140)"
   ]
  },
  {
   "cell_type": "code",
   "execution_count": 91,
   "metadata": {},
   "outputs": [
    {
     "name": "stdout",
     "output_type": "stream",
     "text": [
      "5  - делитель\n",
      "4294967295  - составное\n",
      "         1606655 function calls (1573568 primitive calls) in 1.056 seconds\n",
      "\n",
      "   Ordered by: standard name\n",
      "\n",
      "   ncalls  tottime  percall  cumtime  percall filename:lineno(function)\n",
      "     7374    0.002    0.000    0.011    0.000 <frozen importlib._bootstrap>:1009(_handle_fromlist)\n",
      "     1031    0.065    0.000    0.998    0.001 <ipython-input-1-c6cc3eb84436>:2(power_mod)\n",
      "        1    0.000    0.000    0.000    0.000 <ipython-input-10-c2d85b8ede51>:1(phi)\n",
      "        1    0.000    0.000    0.008    0.008 <ipython-input-11-db558eb627c1>:1(stage5)\n",
      "        1    0.000    0.000    1.055    1.055 <ipython-input-12-f2dbd867ef97>:1(AKS)\n",
      "        1    0.004    0.004    0.005    0.005 <ipython-input-6-6d64ae33462c>:1(stage1)\n",
      "        1    0.003    0.003    1.042    1.042 <ipython-input-7-471c9d03c44b>:1(stage2)\n",
      "        1    0.000    0.000    0.000    0.000 <ipython-input-8-5796b60d2ef6>:1(stage3)\n",
      "        1    0.000    0.000    1.055    1.055 <ipython-input-90-f2a478a419ea>:1(main)\n",
      "        1    0.000    0.000    1.056    1.056 <string>:1(<module>)\n",
      "     1306    0.002    0.000    0.002    0.000 basic.py:108(__new__)\n",
      "    13457    0.002    0.000    0.002    0.000 boolalg.py:315(__nonzero__)\n",
      "     4115    0.001    0.000    0.001    0.000 boolalg.py:385(__nonzero__)\n",
      "    17572    0.004    0.000    0.004    0.000 boolalg.py:420(<lambda>)\n",
      "    88951    0.044    0.000    0.067    0.000 cache.py:91(wrapper)\n",
      "    17572    0.002    0.000    0.002    0.000 core.py:71(<lambda>)\n",
      "     8267    0.007    0.000    0.029    0.000 decorators.py:120(binary_op_wrapper)\n",
      "     8267    0.011    0.000    0.213    0.000 decorators.py:239(_func)\n",
      "    17572    0.020    0.000    0.428    0.000 decorators.py:82(__sympifyit_wrapper)\n",
      "     8267    0.006    0.000    0.020    0.000 expr.py:205(_pow)\n",
      "     8267    0.004    0.000    0.218    0.000 expr.py:210(__pow__)\n",
      "      180    0.000    0.000    0.000    0.000 factorization.py:319(__getitem__)\n",
      "       30    0.000    0.000    0.000    0.000 factorization_integer.py:30(__init__)\n",
      "    33087    0.006    0.000    0.006    0.000 inspect.py:478(getmro)\n",
      "        9    0.000    0.000    0.000    0.000 iostream.py:197(schedule)\n",
      "        8    0.000    0.000    0.000    0.000 iostream.py:309(_is_master_process)\n",
      "        8    0.000    0.000    0.000    0.000 iostream.py:322(_schedule_flush)\n",
      "        8    0.000    0.000    0.000    0.000 iostream.py:384(write)\n",
      "        9    0.000    0.000    0.000    0.000 iostream.py:93(_event_pipe)\n",
      "        6    0.000    0.000    0.000    0.000 misc.py:1651(gcd)\n",
      "     1031    0.002    0.000    0.002    0.000 numbers.py:1700(__add__)\n",
      "     8267    0.013    0.000    0.017    0.000 numbers.py:1739(__mul__)\n",
      "     8274    0.018    0.000    0.026    0.000 numbers.py:1753(__div__)\n",
      "     7248    0.016    0.000    0.167    0.000 numbers.py:1868(__eq__)\n",
      "     1306    0.002    0.000    0.005    0.000 numbers.py:2086(__new__)\n",
      "     1031    0.001    0.000    0.029    0.000 numbers.py:2165(__add__)\n",
      "     5192    0.006    0.000    0.012    0.000 numbers.py:2186(__sub__)\n",
      "    13457    0.017    0.000    0.226    0.000 numbers.py:2206(__mul__)\n",
      "    15543    0.010    0.000    0.183    0.000 numbers.py:2244(__eq__)\n",
      "        2    0.000    0.000    0.000    0.000 numbers.py:2251(__ne__)\n",
      "      507    0.000    0.000    0.002    0.000 numbers.py:2272(__ge__)\n",
      "    17065    0.013    0.000    0.076    0.000 numbers.py:2281(__le__)\n",
      "    45510    0.014    0.000    0.019    0.000 numbers.py:2290(__hash__)\n",
      "     2068    0.000    0.000    0.000    0.000 numbers.py:2639(__nonzero__)\n",
      "       30    0.000    0.000    0.000    0.000 proof.py:169(get_flag)\n",
      "        9    0.000    0.000    0.000    0.000 socket.py:357(send)\n",
      "    42392    0.019    0.000    0.203    0.000 sympify.py:413(_sympify)\n",
      "    33087    0.022    0.000    0.185    0.000 sympify.py:56(_is_numpy_instance)\n",
      "   397044    0.114    0.000    0.114    0.000 sympify.py:62(<genexpr>)\n",
      "101318/68231    0.260    0.000    0.645    0.000 sympify.py:90(sympify)\n",
      "        9    0.000    0.000    0.000    0.000 threading.py:1050(_wait_for_tstate_lock)\n",
      "        9    0.000    0.000    0.000    0.000 threading.py:1092(is_alive)\n",
      "        9    0.000    0.000    0.000    0.000 threading.py:507(is_set)\n",
      "     1306    0.000    0.000    0.000    0.000 {built-in method __new__ of type object at 0x3e219fc40}\n",
      "    33087    0.049    0.000    0.163    0.000 {built-in method builtins.any}\n",
      "        1    0.000    0.000    1.056    1.056 {built-in method builtins.exec}\n",
      "   218151    0.110    0.000    0.112    0.000 {built-in method builtins.getattr}\n",
      "    41480    0.084    0.000    0.084    0.000 {built-in method builtins.hasattr}\n",
      "    45510    0.005    0.000    0.005    0.000 {built-in method builtins.hash}\n",
      "   189615    0.045    0.000    0.045    0.000 {built-in method builtins.isinstance}\n",
      "     8274    0.001    0.000    0.001    0.000 {built-in method builtins.len}\n",
      "        2    0.000    0.000    0.000    0.000 {built-in method builtins.print}\n",
      "        3    0.000    0.000    0.000    0.000 {built-in method math.floor}\n",
      "        3    0.000    0.000    0.000    0.000 {built-in method math.log2}\n",
      "        1    0.000    0.000    0.000    0.000 {built-in method math.sqrt}\n",
      "        8    0.000    0.000    0.000    0.000 {built-in method posix.getpid}\n",
      "        6    0.000    0.000    0.000    0.000 {built-in method sage.structure.coerce.py_scalar_to_element}\n",
      "    33087    0.033    0.000    0.115    0.000 {method '_sympy_' of 'sage.rings.integer.Integer' objects}\n",
      "        9    0.000    0.000    0.000    0.000 {method 'acquire' of '_thread.lock' objects}\n",
      "        9    0.000    0.000    0.000    0.000 {method 'append' of 'collections.deque' objects}\n",
      "     8267    0.001    0.000    0.001    0.000 {method 'append' of 'list' objects}\n",
      "        1    0.000    0.000    0.000    0.000 {method 'disable' of '_lsprof.Profiler' objects}\n",
      "        6    0.000    0.000    0.000    0.000 {method 'gcd' of 'sage.rings.integer.Integer' objects}\n",
      "    83746    0.013    0.000    0.013    0.000 {method 'get' of 'dict' objects}\n",
      "       30    0.000    0.000    0.000    0.000 {method 'is_integer' of 'sage.symbolic.expression.Expression' objects}\n",
      "     8274    0.002    0.000    0.002    0.000 {method 'pop' of 'list' objects}\n",
      "\n",
      "\n"
     ]
    }
   ],
   "source": [
    "import cProfile\n",
    "cProfile.run('main()')"
   ]
  },
  {
   "cell_type": "code",
   "execution_count": 4,
   "metadata": {},
   "outputs": [
    {
     "name": "stdout",
     "output_type": "stream",
     "text": [
      "5  - делитель\n",
      "6\n",
      "65535  - составное\n",
      "5  - делитель\n",
      "6\n",
      "65535  - составное\n",
      "5  - делитель\n",
      "6\n",
      "65535  - составное\n",
      "5  - делитель\n",
      "6\n",
      "65535  - составное\n",
      "5  - делитель\n",
      "6\n",
      "65535  - составное\n",
      "5  - делитель\n",
      "6\n",
      "65535  - составное\n",
      "5  - делитель\n",
      "6\n",
      "65535  - составное\n",
      "3.48 ms ± 1.07 ms per loop (mean ± std. dev. of 7 runs, 1 loop each)\n"
     ]
    }
   ],
   "source": [
    "import timeit\n",
    "%timeit -n 1 AKS(65535)"
   ]
  },
  {
   "cell_type": "code",
   "execution_count": 8,
   "metadata": {},
   "outputs": [
    {
     "name": "stdout",
     "output_type": "stream",
     "text": [
      "The memory_profiler extension is already loaded. To reload it, use:\n",
      "  %reload_ext memory_profiler\n",
      "The memory_profiler extension is already loaded. To reload it, use:\n",
      "  %reload_ext memory_profiler\n"
     ]
    }
   ],
   "source": [
    "%load_ext memory_profiler"
   ]
  },
  {
   "cell_type": "code",
   "execution_count": 7,
   "metadata": {},
   "outputs": [
    {
     "name": "stdout",
     "output_type": "stream",
     "text": [
      "Число простое \n",
      "F 4  =  65537\n",
      "Число простое \n",
      "F 4  =  65537\n",
      "Число простое \n",
      "F 4  =  65537\n",
      "Число простое \n",
      "F 4  =  65537\n",
      "Число простое \n",
      "F 4  =  65537\n",
      "Число простое \n",
      "F 4  =  65537\n",
      "Число простое \n",
      "F 4  =  65537\n",
      "Число простое \n",
      "F 4  =  65537\n",
      "Число простое \n",
      "F 4  =  65537\n",
      "Число простое \n",
      "F 4  =  65537\n",
      "Число простое \n",
      "F 4  =  65537\n",
      "Число простое \n",
      "F 4  =  65537\n",
      "Число простое \n",
      "F 4  =  65537\n",
      "peak memory: 234.90 MiB, increment: 0.04 MiB\n",
      "Число простое \n",
      "F 4  =  65537\n",
      "peak memory: 234.90 MiB, increment: 0.04 MiB\n"
     ]
    }
   ],
   "source": [
    "%memit Pepin_test(4)"
   ]
  }
 ],
 "metadata": {
  "kernelspec": {
   "display_name": "SageMath 9.2",
   "language": "sage",
   "name": "sagemath"
  },
  "language_info": {
   "codemirror_mode": {
    "name": "ipython",
    "version": 3
   },
   "file_extension": ".py",
   "mimetype": "text/x-python",
   "name": "python",
   "nbconvert_exporter": "python",
   "pygments_lexer": "ipython3",
   "version": "3.7.7"
  }
 },
 "nbformat": 4,
 "nbformat_minor": 4
}
