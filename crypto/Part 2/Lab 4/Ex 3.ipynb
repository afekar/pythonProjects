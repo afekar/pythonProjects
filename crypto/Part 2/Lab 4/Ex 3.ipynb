{
 "cells": [
  {
   "cell_type": "code",
   "execution_count": 29,
   "metadata": {},
   "outputs": [],
   "source": [
    "def giant_step_baby_step(g,h,n): # \n",
    "    m=math.floor(math.sqrt(n)+1)\n",
    "    print('m =',m)\n",
    "    giant=[]\n",
    "    baby=[]\n",
    "    base=pow(g,m,n)\n",
    "    for i in range(1,m+1):\n",
    "        giant.append(pow(base,i,n))\n",
    "    print(giant)\n",
    "    for j in range(0,m):\n",
    "        temp=h*pow(g,j)%n\n",
    "        baby.append(temp)\n",
    "        if temp in giant:\n",
    "            print(baby)\n",
    "            indx=giant.index(temp)+1\n",
    "            print('i =',indx)\n",
    "            print('j =',j)\n",
    "            return print('x =',m*indx-j)\n",
    "    pass"
   ]
  },
  {
   "cell_type": "code",
   "execution_count": 33,
   "metadata": {},
   "outputs": [
    {
     "name": "stdout",
     "output_type": "stream",
     "text": [
      "m = 7\n",
      "[17, 30, 29, 12, 19, 27, 15]\n",
      "[28, 19]\n",
      "i = 5\n",
      "j = 1\n",
      "x = 34\n"
     ]
    }
   ],
   "source": [
    "giant_step_baby_step(2,28,37) # 2^x = 28 mod 37"
   ]
  },
  {
   "cell_type": "code",
   "execution_count": 32,
   "metadata": {},
   "outputs": [
    {
     "name": "stdout",
     "output_type": "stream",
     "text": [
      "m = 91\n",
      "[7477, 528, 2669, 3350, 7759, 2782, 5747, 2615, 4642, 3550, 4474, 3069, 4881, 232, 1050, 981, 3532, 7605, 1666, 5445, 4740, 7206, 7612, 5399, 1040, 7221, 6353, 5218, 570, 764, 1223, 6443, 5765, 7585, 6045, 2986, 8067, 5014, 6351, 6466, 7615, 3527, 2624, 7127, 201, 4192, 815, 1803, 967, 4167, 213, 4805, 7151, 1427, 662, 63, 1193, 860, 6127, 424, 2757, 5145, 5617, 2725, 810, 4923, 6428, 7024, 7766, 6515, 1342, 5096, 3789, 1156, 7746, 2793, 6984, 322, 1597, 7996, 712, 1267, 3290, 4694, 3506, 7627, 4140, 859, 6751, 7997, 88]\n",
      "[7531, 4681, 3783, 6496, 6572, 7028, 1663, 1877, 3161, 2764, 382, 2292, 5651, 1502, 911, 5466, 392, 2352, 6011, 3662, 5770, 2216, 5195, 6867, 697, 4182, 789, 4734, 4101, 303, 1818, 2807, 640, 3840, 6838, 523, 3138, 2626, 7655, 5425, 146, 876, 5256, 7233, 2893, 1156]\n",
      "i = 74\n",
      "j = 45\n",
      "x = 6689\n"
     ]
    }
   ],
   "source": [
    "giant_step_baby_step(6,7531,8101) # 6^x = 7531 mod 8101"
   ]
  },
  {
   "cell_type": "code",
   "execution_count": 10,
   "metadata": {},
   "outputs": [
    {
     "name": "stdout",
     "output_type": "stream",
     "text": [
      "Elliptic Curve defined by y^2 = x^3 + x + 1 over Finite Field of size 23\n",
      "5\n",
      "(9 : 16 : 1)\n"
     ]
    }
   ],
   "source": [
    "EC = EllipticCurve(GF(23),[1,1])\n",
    "print(EC)\n",
    "G=EC([0,1])\n",
    "T=G*13\n",
    "m=math.ceil(math.sqrt(23))\n",
    "print(m)\n",
    "print(T)"
   ]
  },
  {
   "cell_type": "code",
   "execution_count": 14,
   "metadata": {},
   "outputs": [
    {
     "name": "stdout",
     "output_type": "stream",
     "text": [
      "[(0 : 1 : 1), (6 : 19 : 1), (3 : 13 : 1), (13 : 16 : 1), (18 : 3 : 1)]\n",
      "(9 : 16 : 1)\n",
      "(5 : 19 : 1)\n",
      "(3 : 13 : 1)\n",
      "[(9 : 16 : 1), (5 : 19 : 1), (3 : 13 : 1)]\n",
      "i = 3\n",
      "j = 2\n",
      "x = 13\n",
      "(6 : 4 : 1)\n",
      "(11 : 20 : 1)\n"
     ]
    }
   ],
   "source": [
    "giant=[]\n",
    "baby=[]\n",
    "for i in range(1,m+1):\n",
    "    giant.append(G*i)\n",
    "print(giant)\n",
    "for j in range(0,m):\n",
    "    temp=T-j*m*G\n",
    "    print(temp)\n",
    "    baby.append(temp)\n",
    "    if temp in giant:\n",
    "            print(baby)\n",
    "            indx=giant.index(temp)+1\n",
    "            print('i =',indx)\n",
    "            print('j =',j)\n",
    "            print('x =',m*indx-j)"
   ]
  },
  {
   "cell_type": "code",
   "execution_count": null,
   "metadata": {},
   "outputs": [],
   "source": []
  }
 ],
 "metadata": {
  "kernelspec": {
   "display_name": "SageMath 9.2",
   "language": "sage",
   "name": "sagemath"
  },
  "language_info": {
   "codemirror_mode": {
    "name": "ipython",
    "version": 3
   },
   "file_extension": ".py",
   "mimetype": "text/x-python",
   "name": "python",
   "nbconvert_exporter": "python",
   "pygments_lexer": "ipython3",
   "version": "3.7.7"
  }
 },
 "nbformat": 4,
 "nbformat_minor": 4
}
