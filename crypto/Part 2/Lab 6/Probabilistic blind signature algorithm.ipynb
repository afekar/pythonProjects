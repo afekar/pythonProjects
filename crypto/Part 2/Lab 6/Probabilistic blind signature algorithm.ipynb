{
 "cells": [
  {
   "cell_type": "code",
   "execution_count": 2,
   "metadata": {},
   "outputs": [],
   "source": [
    "import sympy\n",
    "def power_mod(base, exponent, n):\n",
    "    base = sympy.Integer(base)\n",
    "    exponent = sympy.Integer(exponent)\n",
    "    n = sympy.Integer(n)\n",
    "    x = sympy.Integer(1)\n",
    "    e = exponent\n",
    "    c = sympy.Mod(base, n)\n",
    "    vals = [c]\n",
    "    x += 1\n",
    "    while x <= exponent:\n",
    "        c = sympy.Mod(c**2, n)\n",
    "        vals.append(c)\n",
    "        x *= 2\n",
    "\n",
    "    x /= 2\n",
    "    answer = sympy.Integer(1)\n",
    "    while len(vals) > 0:\n",
    "        nextv = vals.pop()\n",
    "        if x <= e:\n",
    "            answer = sympy.Mod(nextv*answer, n)\n",
    "            e -= x\n",
    "            if e == 0:\n",
    "                break\n",
    "        x /= 2\n",
    "    return answer"
   ]
  },
  {
   "cell_type": "code",
   "execution_count": 3,
   "metadata": {},
   "outputs": [],
   "source": [
    "def get_random(n):\n",
    "    return randrange(2,n)"
   ]
  },
  {
   "cell_type": "code",
   "execution_count": 4,
   "metadata": {},
   "outputs": [],
   "source": [
    "def blind_sign(h):\n",
    "    #p1=59\n",
    "    #q1=67\n",
    "    #p2=103\n",
    "    #q2=107\n",
    "    p1=567401\n",
    "    q1=565441\n",
    "    p2=575131\n",
    "    q2=577523\n",
    "    n1=p1*q1\n",
    "    n2=p2*q2\n",
    "    phi1=(p1-1)*(q1-1)\n",
    "    phi2=(p2-1)*(q2-1)\n",
    "    while True:\n",
    "        e=randrange(2,phi1)\n",
    "        s=randrange(2,phi2)\n",
    "        if gcd(e,phi1)==1 and gcd(s,phi2)==1:\n",
    "            break\n",
    "    d=inverse_mod(e,phi1)\n",
    "    v=inverse_mod(s,phi2)\n",
    "    h=power_mod(h,e,n1)#%n2\n",
    "    print('Подпись',h)\n",
    "    h=power_mod(h,s,n2)#%n1\n",
    "    print('Шифр',h)\n",
    "    print('e =',e,'\\nd =',d,'\\ns =',s,'\\nv =',v)\n",
    "    return h,e,d,s,v,n1,n2,p1,q1,p2,q2"
   ]
  },
  {
   "cell_type": "code",
   "execution_count": 5,
   "metadata": {},
   "outputs": [],
   "source": [
    "def find_root(R,p,q):\n",
    "    r1=power_mod(R,int((p+1)/4),p)\n",
    "    r2=p-power_mod(R,int((p+1)/4),p)\n",
    "    r3=power_mod(R,int((q+1)/4),q)\n",
    "    r4=q-power_mod(R,int((q+1)/4),q)\n",
    "    a=q*inverse_mod(q,p)\n",
    "    b=p*inverse_mod(p,q)\n",
    "    n=p*q\n",
    "    roots=[]\n",
    "    roots.append((a*r1+b*r3)%n)\n",
    "    roots.append((a*r1+b*r4)%n)\n",
    "    roots.append((a*r2+b*r3)%n)\n",
    "    roots.append((a*r2+b*r4)%n)\n",
    "    r=randrange(0,4)\n",
    "    res = roots[r]\n",
    "    return res"
   ]
  },
  {
   "cell_type": "code",
   "execution_count": 15,
   "metadata": {},
   "outputs": [],
   "source": [
    "def check_root(c,root,x,n,e):\n",
    "    if root!=x and (n-root)%n!=x:\n",
    "        p=gcd(x-root,n)\n",
    "        q=n/p\n",
    "        print('p =',p)\n",
    "        print('q =',q)\n",
    "        phi=(p-1)*(q-1)\n",
    "        d=inverse_mod(e,phi)\n",
    "        print('d =',d)\n",
    "        c=power_mod(c,d,n)\n",
    "        print('Удалось подписать - сняли шифрование',c)\n",
    "    else:\n",
    "        return print('Не можем снять шифрование')"
   ]
  },
  {
   "cell_type": "code",
   "execution_count": 7,
   "metadata": {},
   "outputs": [],
   "source": [
    "m='Во время Второй мировой войны в Англии для расшифровки сообщений, зашифрованных с помощью «Энигмы», была создана машина с кодовым названием «Turing Bombe»'\n",
    "#print(hash(m))\n",
    "#h=hash(m)\n",
    "h=2500"
   ]
  },
  {
   "cell_type": "code",
   "execution_count": 8,
   "metadata": {},
   "outputs": [
    {
     "name": "stdout",
     "output_type": "stream",
     "text": [
      "Подпись 261599781164\n",
      "Шифр 194848484426\n",
      "e = 254467255979 \n",
      "d = 92488111619 \n",
      "s = 68856821327 \n",
      "v = 81177301883\n",
      "194848484426\n"
     ]
    }
   ],
   "source": [
    "h=2500\n",
    "h,e,d,s,v,n1,n2,p1,q1,p2,q2 = blind_sign(h)\n",
    "print(h)\n",
    "#h=power_mod(h,v,n2)\n",
    "#print('снятие шифра',h)\n",
    "#h=power_mod(h,d,n1)\n",
    "#print('Снятие подписи',h)"
   ]
  },
  {
   "cell_type": "code",
   "execution_count": 9,
   "metadata": {},
   "outputs": [
    {
     "name": "stdout",
     "output_type": "stream",
     "text": [
      "6493904977 315391078781\n"
     ]
    }
   ],
   "source": [
    "x=get_random(n2)\n",
    "R=power_mod(x,2,n2)\n",
    "print(x,R)"
   ]
  },
  {
   "cell_type": "code",
   "execution_count": 12,
   "metadata": {},
   "outputs": [
    {
     "name": "stdout",
     "output_type": "stream",
     "text": [
      "67543283784\n"
     ]
    }
   ],
   "source": [
    "root=find_root(R,p2,q2)\n",
    "print(root)"
   ]
  },
  {
   "cell_type": "code",
   "execution_count": 16,
   "metadata": {},
   "outputs": [
    {
     "name": "stdout",
     "output_type": "stream",
     "text": [
      "p = 577523\n",
      "q = 575131\n",
      "d = 81177301883\n",
      "Удалось подписать - сняли шифрование 261599781164\n"
     ]
    }
   ],
   "source": [
    "check_root(h,root,x,n2,s)"
   ]
  },
  {
   "cell_type": "code",
   "execution_count": 17,
   "metadata": {},
   "outputs": [
    {
     "data": {
      "text/latex": [
       "$\\displaystyle 222638670410$"
      ],
      "text/plain": [
       "222638670410"
      ]
     },
     "execution_count": 17,
     "metadata": {},
     "output_type": "execute_result"
    }
   ],
   "source": [
    "power_mod(68856821327,577522*575130-1,577523*575131)"
   ]
  },
  {
   "cell_type": "code",
   "execution_count": null,
   "metadata": {},
   "outputs": [],
   "source": []
  }
 ],
 "metadata": {
  "kernelspec": {
   "display_name": "SageMath 9.2",
   "language": "sage",
   "name": "sagemath"
  },
  "language_info": {
   "codemirror_mode": {
    "name": "ipython",
    "version": 3
   },
   "file_extension": ".py",
   "mimetype": "text/x-python",
   "name": "python",
   "nbconvert_exporter": "python",
   "pygments_lexer": "ipython3",
   "version": "3.7.7"
  }
 },
 "nbformat": 4,
 "nbformat_minor": 4
}
