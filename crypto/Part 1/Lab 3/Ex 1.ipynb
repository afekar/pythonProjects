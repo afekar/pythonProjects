{
 "cells": [
  {
   "cell_type": "code",
   "execution_count": 2,
   "metadata": {},
   "outputs": [],
   "source": [
    "def Ascii_To_Int(arr):\n",
    "    result=0\n",
    "    for i in range(len(arr)):\n",
    "        result += ord(arr[i])*2**(8*i)\n",
    "    return result"
   ]
  },
  {
   "cell_type": "code",
   "execution_count": 3,
   "metadata": {},
   "outputs": [
    {
     "name": "stdout",
     "output_type": "stream",
     "text": [
      "Elliptic Curve defined by y^2 = x^3 + x + 1 over Finite Field of size 23\n"
     ]
    }
   ],
   "source": [
    "EC = EllipticCurve(GF(23),[1,1])\n",
    "print(EC)\n",
    "G=EC([0,1])\n",
    "e=11"
   ]
  },
  {
   "cell_type": "code",
   "execution_count": 9,
   "metadata": {},
   "outputs": [
    {
     "name": "stdout",
     "output_type": "stream",
     "text": [
      "s =  abc s_ =  bca\n",
      "x =  6513249\n",
      "x_m =  1\n",
      "C =  (18 : 3 : 1)\n"
     ]
    }
   ],
   "source": [
    "s='abc'\n",
    "s_='bca'\n",
    "print('s = ',s,'s_ = ',s_)\n",
    "upgraded=False\n",
    "x=Ascii_To_Int(s)\n",
    "print('x = ',x)\n",
    "M=x*G\n",
    "M_=e*M\n",
    "x_m=int(M_[0])\n",
    "print('x_m = ',x_m)\n",
    "H=x_m*G\n",
    "r = 4\n",
    "if upgraded==True:\n",
    "    C=hash(x)*G+hash(x_m*r)*G\n",
    "else:\n",
    "    C=x*G+r*H\n",
    "print('C = ',C)"
   ]
  },
  {
   "cell_type": "code",
   "execution_count": 10,
   "metadata": {},
   "outputs": [
    {
     "name": "stdout",
     "output_type": "stream",
     "text": [
      "x_ =  6382434\n",
      "r_ =  130819\n",
      "C_ =  (18 : 3 : 1)\n"
     ]
    }
   ],
   "source": [
    "x_=Ascii_To_Int(s_)# Алгоритм подделки обычной схемы обязательств\n",
    "print('x_ = ',x_)\n",
    "r_=(x+r*x_m-x_)//x_m # Если (x+r*x_m-x_) делится на x_m, то можем вычислить r'\n",
    "print('r_ = ',r_)\n",
    "delta=x_+r_*x_m\n",
    "C_=G*delta\n",
    "print('C_ = ',C_)"
   ]
  },
  {
   "cell_type": "code",
   "execution_count": null,
   "metadata": {},
   "outputs": [],
   "source": []
  }
 ],
 "metadata": {
  "kernelspec": {
   "display_name": "SageMath 9.2",
   "language": "sage",
   "name": "sagemath"
  },
  "language_info": {
   "codemirror_mode": {
    "name": "ipython",
    "version": 3
   },
   "file_extension": ".py",
   "mimetype": "text/x-python",
   "name": "python",
   "nbconvert_exporter": "python",
   "pygments_lexer": "ipython3",
   "version": "3.7.7"
  }
 },
 "nbformat": 4,
 "nbformat_minor": 4
}
