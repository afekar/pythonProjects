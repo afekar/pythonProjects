{
 "cells": [
  {
   "cell_type": "code",
   "execution_count": 89,
   "metadata": {},
   "outputs": [],
   "source": [
    "def signature(g,q,p,m,x,k):\n",
    "    sign=[]\n",
    "    r=power_mod(g,k,p)%q\n",
    "    sign.append(r)\n",
    "    h=hash(m)\n",
    "    sign.append((inverse_mod(k,q)*(h+x*r))%q)\n",
    "    return sign"
   ]
  },
  {
   "cell_type": "code",
   "execution_count": 106,
   "metadata": {},
   "outputs": [],
   "source": [
    "def check(m,sign,g,y,p,q):\n",
    "    w=inverse_mod(sign[1],q)\n",
    "    u1=(hash(m)*w)%q\n",
    "    u2=sign[0]*w%q\n",
    "    v=(power_mod((g**u1)*(y**u2),1,p))%q\n",
    "    if v == sign[0]:\n",
    "        return print('Подпись верна')\n",
    "    else:\n",
    "        return print('Подпись не верна')"
   ]
  },
  {
   "cell_type": "code",
   "execution_count": 146,
   "metadata": {},
   "outputs": [
    {
     "name": "stdout",
     "output_type": "stream",
     "text": [
      "Message 1 Lazy Bob \n",
      "Message 2 2nd message\n",
      "x =  11\n",
      "Подпись 1 =  [13, 1]  Подпись 2 =  [13, 2]\n"
     ]
    }
   ],
   "source": [
    "m1='Lazy Bob'\n",
    "m2='2nd message'\n",
    "print('Message 1',m1,'\\nMessage 2',m2)\n",
    "p=103\n",
    "q=17\n",
    "g=0\n",
    "while True:\n",
    "    h=randint(2,p-2)\n",
    "    g=power_mod(int(h),int((p-1)/q),p)\n",
    "    if g>1:\n",
    "        break\n",
    "x=randint(2,q-1)\n",
    "print('x = ',x)\n",
    "y=power_mod(g,x,p)\n",
    "while True:\n",
    "    k=randint(2,q-1)\n",
    "    s1=(inverse_mod(k,q)*(hash(m1)+x*(power_mod(g,k,p)%q)))%q\n",
    "    s2=(inverse_mod(k,q)*(hash(m2)+x*(power_mod(g,k,p)%q)))%q\n",
    "    if power_mod(g,k,p)%q != 0 and s1 != 0 and s2 !=0:\n",
    "        break\n",
    "sign1=signature(g,q,p,m1,x,k)\n",
    "sign2=signature(g,q,p,m2,x,k)\n",
    "print('Подпись 1 = ',sign1,' Подпись 2 = ', sign2)"
   ]
  },
  {
   "cell_type": "code",
   "execution_count": 147,
   "metadata": {},
   "outputs": [
    {
     "name": "stdout",
     "output_type": "stream",
     "text": [
      "Подделка 1ой подписи =  [13, 1] \n",
      "Подделка 2ой подписи =  [13, 2]\n",
      "Подпись верна\n",
      "Подпись верна\n",
      "Секретный ключ Боба =  11\n"
     ]
    }
   ],
   "source": [
    "h=power_mod((hash(m1)-hash(m2)),1,q) # h1-h2\n",
    "s=power_mod((sign1[1]-sign2[1]),1,q) # s1-s2\n",
    "k_inv=s*inverse_mod(h,q)\n",
    "k_norm=inverse_mod(k_inv,q)\n",
    "x_=power_mod((sign1[1]-k_inv*hash(m1))*inverse_mod(sign1[0]*k_inv,q),1,q)\n",
    "sign3=signature(g,q,p,m1,x_,k_norm) # Подделка 1ой подписи\n",
    "sign4=signature(g,q,p,m2,x_,k_norm) # Подделка 2ой подписи\n",
    "print('Подделка 1ой подписи = ',sign3,'\\nПодделка 2ой подписи = ', sign4)\n",
    "check(m1,sign3,g,y,p,q)\n",
    "check(m2,sign4,g,y,p,q)\n",
    "print('Секретный ключ Боба = ',x_)"
   ]
  },
  {
   "cell_type": "code",
   "execution_count": null,
   "metadata": {},
   "outputs": [],
   "source": []
  }
 ],
 "metadata": {
  "kernelspec": {
   "display_name": "SageMath 9.2",
   "language": "sage",
   "name": "sagemath"
  },
  "language_info": {
   "codemirror_mode": {
    "name": "ipython",
    "version": 3
   },
   "file_extension": ".py",
   "mimetype": "text/x-python",
   "name": "python",
   "nbconvert_exporter": "python",
   "pygments_lexer": "ipython3",
   "version": "3.7.7"
  }
 },
 "nbformat": 4,
 "nbformat_minor": 4
}
