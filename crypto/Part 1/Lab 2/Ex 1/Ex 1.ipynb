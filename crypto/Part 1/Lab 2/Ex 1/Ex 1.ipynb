{
 "cells": [
  {
   "cell_type": "code",
   "execution_count": 1,
   "metadata": {},
   "outputs": [],
   "source": [
    "import sympy\n",
    "import math as m\n",
    "def power_mod(base, exponent, n):\n",
    "    base = sympy.Integer(base)\n",
    "    exponent = sympy.Integer(exponent)\n",
    "    n = sympy.Integer(n)\n",
    "    x = sympy.Integer(1)\n",
    "    e = exponent\n",
    "    c = sympy.Mod(base, n)\n",
    "    vals = [c]\n",
    "    x += 1\n",
    "    while x <= exponent:\n",
    "        c = sympy.Mod(c**2, n)\n",
    "        vals.append(c)\n",
    "        x *= 2\n",
    "\n",
    "    x /= 2\n",
    "    answer = sympy.Integer(1)\n",
    "    while len(vals) > 0:\n",
    "        nextv = vals.pop()\n",
    "        if x <= e:\n",
    "            answer = sympy.Mod(nextv*answer, n)\n",
    "            e -= x\n",
    "            if e == 0:\n",
    "                break\n",
    "        x /= 2\n",
    "    return answer\n",
    "p = 764164861678448570381035710359710355726605817359137053910517509501901951059170591750197501957107501753017510510571032423387\n",
    "q = 26781274432525236246246426232362812708871094021124912478464784930303983023802803570239750297350920529732507250751\n",
    "c = 21507232783116604478118897394211856345085885029960535067823593536310843852027320753560804685331127451923396642901592757697526179627697397334173215324888255947005993576951261211032134798473303949674871608041"
   ]
  },
  {
   "cell_type": "code",
   "execution_count": 20,
   "metadata": {},
   "outputs": [
    {
     "name": "stdout",
     "output_type": "stream",
     "text": [
      "3\n",
      "3\n"
     ]
    }
   ],
   "source": [
    "print(power_mod(p,1,4))\n",
    "print(power_mod(q,1,4))"
   ]
  },
  {
   "cell_type": "code",
   "execution_count": 2,
   "metadata": {},
   "outputs": [],
   "source": [
    "def max_deg(m):\n",
    "    deg=0\n",
    "    while True:\n",
    "        if 2**(8*deg)<m:\n",
    "            deg+=1\n",
    "        else:\n",
    "            deg-=1\n",
    "            break\n",
    "    return deg"
   ]
  },
  {
   "cell_type": "code",
   "execution_count": 3,
   "metadata": {},
   "outputs": [],
   "source": [
    "def get_ascii(mess):\n",
    "    temp=mess\n",
    "    temp_arr=[]\n",
    "    deg=max_deg(temp)\n",
    "    for deg in range(deg,-1,-1):\n",
    "        weight=2**(8*deg)\n",
    "        temp_arr.append(temp//weight)\n",
    "        temp=temp%weight\n",
    "    temp_arr.reverse()\n",
    "    for i in range(len(temp_arr)):\n",
    "        temp_arr[i]=chr(temp_arr[i])\n",
    "    return print(''.join(temp_arr))"
   ]
  },
  {
   "cell_type": "code",
   "execution_count": 4,
   "metadata": {},
   "outputs": [
    {
     "name": "stdout",
     "output_type": "stream",
     "text": [
      "Message 1\n",
      "|D\u001aR&'\u0004\t[Ùå¬ý>ÆÞ\u0000ü\u0005YÔÆÕ\u0014\u0016|cØG¥ýBtvB\u0000å¡úV\u0019Ôo¸\u001bfJÚßj4Á±nXà`¥!\u001bM`«HR®EÚ!Sxå,¡szh±\t+Ä\u001c",
      "0ãë\f",
      "\n",
      "Message 2\n",
      "Stop breaking me!!!! I am really angry!!!!!\n",
      "Message 3\n",
      "æ\n",
      "ÿzôZjQþ\u00071LQ³S®9»é}ê)+\tÒ·ÏB%uã§e\u0016Æa½z\b\u0012M5ô7¤ômz9\u0012à­SÃÃÄÅ®åÁ\u0010\bÿá@ö/O\u000b",
      "²#¦J\u00157\u0007¿QCW\u001e",
      "3å6\u0002~3\n",
      "Message 4\n",
      "TÞ5æ\u0004§¨®`\u0016ÆÍÄ\"z\tÎý£\r",
      "ÁHwÐuõX·¨p\u001báå\u0007j=õæ<±øxÅ;gÑYjÎuEy\u0011*VmÎUakæãàÓ­Ý Å×\u0001SÒ/\n",
      "í\u0000EéÅ\u0014\b!\u001aY\u001f&\n"
     ]
    }
   ],
   "source": [
    "m1=power_mod(c,int((p+1)/4),p)\n",
    "m2=p-power_mod(c,int((p+1)/4),p)\n",
    "m3=power_mod(c,int((q+1)/4),q)\n",
    "m4=q-power_mod(c,int((q+1)/4),q)\n",
    "a=q*inverse_mod(q,p)\n",
    "b=p*inverse_mod(p,q)\n",
    "n=p*q\n",
    "messages=[]\n",
    "messages.append(int((a*m1+b*m3)%n))\n",
    "messages.append(int((a*m1+b*m4)%n))\n",
    "messages.append(int((a*m2+b*m3)%n))\n",
    "messages.append(int((a*m2+b*m4)%n))\n",
    "for i in range(len(messages)):\n",
    "    print('Message '+str(i+1))\n",
    "    get_ascii(messages[i])"
   ]
  },
  {
   "cell_type": "code",
   "execution_count": null,
   "metadata": {},
   "outputs": [],
   "source": []
  }
 ],
 "metadata": {
  "kernelspec": {
   "display_name": "SageMath 9.2",
   "language": "sage",
   "name": "sagemath"
  },
  "language_info": {
   "codemirror_mode": {
    "name": "ipython",
    "version": 3
   },
   "file_extension": ".py",
   "mimetype": "text/x-python",
   "name": "python",
   "nbconvert_exporter": "python",
   "pygments_lexer": "ipython3",
   "version": "3.7.7"
  }
 },
 "nbformat": 4,
 "nbformat_minor": 4
}
