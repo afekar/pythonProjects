{
 "cells": [
  {
   "cell_type": "code",
   "execution_count": 147,
   "metadata": {},
   "outputs": [],
   "source": [
    "import sympy\n",
    "import math as m\n",
    "def power_mod(base, exponent, n):\n",
    "    base = sympy.Integer(base)\n",
    "    exponent = sympy.Integer(exponent)\n",
    "    n = sympy.Integer(n)\n",
    "    x = sympy.Integer(1)\n",
    "    e = exponent\n",
    "    c = sympy.Mod(base, n)\n",
    "    vals = [c]\n",
    "    x += 1\n",
    "    while x <= exponent:\n",
    "        c = sympy.Mod(c**2, n)\n",
    "        vals.append(c)\n",
    "        x *= 2\n",
    "\n",
    "    x /= 2\n",
    "    answer = sympy.Integer(1)\n",
    "    while len(vals) > 0:\n",
    "        nextv = vals.pop()\n",
    "        if x <= e:\n",
    "            answer = sympy.Mod(nextv*answer, n)\n",
    "            e -= x\n",
    "            if e == 0:\n",
    "                break\n",
    "        x /= 2\n",
    "    return answer\n",
    "p = 16781687691864982104812708871094021124912478464784930303983023802803570239750297350920529732507250389\n",
    "q = 25781687691864982104812708871094021124912478464784930303983023802803570239750297350920529732507250607\n",
    "c = 984606242897781351877378204790413442900511119255246275585989233851641852963303435142231314451079610078358398311369424296085399803119509709622481188960362282243281"
   ]
  },
  {
   "cell_type": "code",
   "execution_count": 2,
   "metadata": {},
   "outputs": [
    {
     "name": "stdout",
     "output_type": "stream",
     "text": [
      "1\n",
      "3\n"
     ]
    }
   ],
   "source": [
    "print(power_mod(p,1,4))\n",
    "print(power_mod(q,1,4))"
   ]
  },
  {
   "cell_type": "code",
   "execution_count": 148,
   "metadata": {},
   "outputs": [],
   "source": [
    "def max_deg(m):\n",
    "    deg=0\n",
    "    while True:\n",
    "        if 2**(8*deg)<m:\n",
    "            deg+=1\n",
    "        else:\n",
    "            deg-=1\n",
    "            break\n",
    "    return deg"
   ]
  },
  {
   "cell_type": "code",
   "execution_count": 149,
   "metadata": {},
   "outputs": [],
   "source": [
    "def get_ascii(mess):\n",
    "    temp=mess\n",
    "    temp_arr=[]\n",
    "    deg=max_deg(temp)\n",
    "    for deg in range(deg,-1,-1):\n",
    "        weight=2**(8*deg)\n",
    "        temp_arr.append(temp//weight)\n",
    "        temp=temp%weight\n",
    "    temp_arr.reverse()\n",
    "    for i in range(len(temp_arr)):\n",
    "        temp_arr[i]=chr(temp_arr[i])\n",
    "    return print(''.join(temp_arr))"
   ]
  },
  {
   "cell_type": "code",
   "execution_count": 153,
   "metadata": {
    "scrolled": true
   },
   "outputs": [
    {
     "name": "stdout",
     "output_type": "stream",
     "text": [
      "9000000000000000000000000000000000000000000000000000000000000000000000000000000000000000000000000218\n",
      "Message 1\n",
      "R}]>æðÖ\u0014{Zl9².ö\u001fUÙuã©¿ÿ°äC1ÄÜê¤mxYoþ·ß O¸ó#b<ÒÐø:¹2\t\u0000M«úrK¢¯ÔYãQ\u0016,6½;\u0007Ö¦ø-\u0005\n",
      "Message 2\n",
      "s\u0000Äãdyä2\u0002Q©ÂU /ú\n",
      "\u0014Öï\u000efO¿\u0001\u001d",
      "áä\u0007´Ó)\u000b",
      "¿\r",
      "M×$L\u0017nÅ¥,\u0016®® Z\\Åñ¼*ò\u0000\f",
      "ñíÌÖ]ÈQá\u0015ªH£JfÉTÆ\u0003\n",
      "Message 3\n",
      "(\u001e",
      "3ä\u0017[Ú\u0018\bsXCçÝªÔÕ\u0002:Ëù./®ù¢wbv\u0012·\n",
      "\u0001ú\u0015\u0015¯¨Qü\u001fNÂÉ\\£F\u001a*K£ÝS3K/\u001e",
      "aatd@\u001a0\u00056Îc@óKP¬à\u0001\n",
      "Message 4\n",
      "I¡0:ÀCñOi\u000eÉìO\u0006UE´Ê$ë¾mJJQ\u0012e~µ!àeÑÖj\u001c",
      "_'C4dÍ¹ üÿÊt_A\u0010\u0011¦&¸\u0006­fláºkº\u0015»RõZ\u0017s\by\n"
     ]
    }
   ],
   "source": [
    "d=int(q-p)\n",
    "print(d)\n",
    "m1=power_mod(c,int((p-1)/2),p)\n",
    "m2=p-power_mod(c,int((p-1)/2),p)\n",
    "m3=power_mod(c,int((q+1)/4),q)\n",
    "m4=q-power_mod(c,int((q+1)/4),q)\n",
    "a=q*inverse_mod(q,p)\n",
    "b=p*inverse_mod(p,q)\n",
    "n=p*q\n",
    "messages=[]\n",
    "messages.append(int((a*m1+b*m3)%n))\n",
    "messages.append(int((a*m1+b*m4)%n))\n",
    "messages.append(int((a*m2+b*m3)%n))\n",
    "messages.append(int((a*m2+b*m4)%n))\n",
    "for i in range(len(messages)):\n",
    "    print('Message '+str(i+1))\n",
    "    get_ascii(messages[i])"
   ]
  },
  {
   "cell_type": "code",
   "execution_count": 120,
   "metadata": {},
   "outputs": [
    {
     "name": "stdout",
     "output_type": "stream",
     "text": [
      "23\n"
     ]
    }
   ],
   "source": [
    "a=power_mod(45,2,143)\n",
    "print(a)"
   ]
  },
  {
   "cell_type": "code",
   "execution_count": 121,
   "metadata": {},
   "outputs": [
    {
     "name": "stdout",
     "output_type": "stream",
     "text": [
      "10 3 1 10\n",
      "23\n",
      "10\n",
      "133\n",
      "120\n"
     ]
    }
   ],
   "source": [
    "q1=11\n",
    "p1=13\n",
    "d=p1-q1\n",
    "s=q1+p\n",
    "m1=power_mod(a,int((d)/2),p1)\n",
    "m2=p1-power_mod(a,int((d)/2),p1)\n",
    "m3=power_mod(a,int((q1+1)/4),q1)\n",
    "m4=q1-power_mod(a,int((q1+1)/4),q1)\n",
    "print(m1,m2,m3,m4)\n",
    "a=q1*inverse_mod(q1,p1)\n",
    "b=p1*inverse_mod(p1,q1)\n",
    "n=p1*q1\n",
    "print(int((a*m1+b*m3)%n))\n",
    "print(int((a*m1+b*m4)%n))\n",
    "print(int((a*m2+b*m3)%n))\n",
    "print(int((a*m2+b*m4)%n))"
   ]
  },
  {
   "cell_type": "code",
   "execution_count": 168,
   "metadata": {},
   "outputs": [
    {
     "name": "stdout",
     "output_type": "stream",
     "text": [
      "x^2 + 8890317940712655107993789068700115189043452225797303150298352428646839178576106325917453746623573272*x + 12560215001436641367100882099588009247020654782499395913395677590009458090052880192426915737339849581\n",
      "x^2 + 875643983254007135951408759353219866980585161116395094520390358128013209212197031637292304373115821*x + 12891045288596090530646872516782319163199404959224039276081508168954535749404909507090821794599570683\n",
      "x^2 + 10536555897173444880421803257253594808699626400618534287655783793718794364901456089906096866884823765*x + 9688282639509573798529192130869059793719525481222939670294808851860503304151176804511857852213071343\n",
      "3122565897345768612195452806920213158106426032083198008163620004542387937424420630507216432811213312\n"
     ]
    }
   ],
   "source": [
    "P = 16781687691864982104812708871094021124912478464784930303983023802803570239750297350920529732507250389\n",
    "Q = 25781687691864982104812708871094021124912478464784930303983023802803570239750297350920529732507250607\n",
    "C = 984606242897781351877378204790413442900511119255246275585989233851641852963303435142231314451079610078358398311369424296085399803119509709622481188960362282243281\n",
    "\n",
    "\n",
    "def sqr_new2(a,p):\n",
    " sigma = 0\n",
    " flag = 0\n",
    " p2 = (p-1)/2\n",
    " while(flag == 0):\n",
    "     sigma = randint(1,p-1)\n",
    "     x = PolynomialRing(GF(p), 'x').gen()\n",
    "     f = (x - sigma)^2 - a\n",
    "     F = f.factor()\n",
    "     print(f)\n",
    "     if (len(F) == 2):\n",
    "      break\n",
    " return sigma\n",
    "\n",
    "print(sqr_new2(C, P))"
   ]
  },
  {
   "cell_type": "code",
   "execution_count": null,
   "metadata": {},
   "outputs": [],
   "source": []
  }
 ],
 "metadata": {
  "kernelspec": {
   "display_name": "SageMath 9.2",
   "language": "sage",
   "name": "sagemath"
  },
  "language_info": {
   "codemirror_mode": {
    "name": "ipython",
    "version": 3
   },
   "file_extension": ".py",
   "mimetype": "text/x-python",
   "name": "python",
   "nbconvert_exporter": "python",
   "pygments_lexer": "ipython3",
   "version": "3.7.7"
  }
 },
 "nbformat": 4,
 "nbformat_minor": 4
}
