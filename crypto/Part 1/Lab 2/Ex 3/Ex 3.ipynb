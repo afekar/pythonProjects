{
 "cells": [
  {
   "cell_type": "code",
   "execution_count": 40,
   "metadata": {},
   "outputs": [],
   "source": [
    "import sympy\n",
    "def power_mod(base, exponent, n):\n",
    "    base = sympy.Integer(base)\n",
    "    exponent = sympy.Integer(exponent)\n",
    "    n = sympy.Integer(n)\n",
    "    x = sympy.Integer(1)\n",
    "    e = exponent\n",
    "    c = sympy.Mod(base, n)\n",
    "    vals = [c]\n",
    "    x += 1\n",
    "    while x <= exponent:\n",
    "        c = sympy.Mod(c**2, n)\n",
    "        vals.append(c)\n",
    "        x *= 2\n",
    "\n",
    "    x /= 2\n",
    "    answer = sympy.Integer(1)\n",
    "    while len(vals) > 0:\n",
    "        nextv = vals.pop()\n",
    "        if x <= e:\n",
    "            answer = sympy.Mod(nextv*answer, n)\n",
    "            e -= x\n",
    "            if e == 0:\n",
    "                break\n",
    "        x /= 2\n",
    "    return answer\n",
    "\n",
    "def Solovay_Strassen_test(n,k):\n",
    "    for i in range(1,k):\n",
    "        a=randint(2,n-1)\n",
    "        if gcd(a,n)>1:\n",
    "            return False\n",
    "        else:\n",
    "            symb=kronecker_symbol(a,n)\n",
    "            if power_mod(a,(n-1)/2,n)!=symb:\n",
    "                return False\n",
    "    return True"
   ]
  },
  {
   "cell_type": "code",
   "execution_count": 41,
   "metadata": {},
   "outputs": [
    {
     "name": "stdout",
     "output_type": "stream",
     "text": [
      "r =  1302556\n",
      "z =  463548\n"
     ]
    }
   ],
   "source": [
    "while True:\n",
    "    p=randint(1000,5000)\n",
    "    p-=(p+1)%2\n",
    "    if p%4==3 and Solovay_Strassen_test(p,10) == True:\n",
    "        break\n",
    "while True:\n",
    "    q=randint(1000,5000)\n",
    "    q-=(q+1)%2\n",
    "    if q%4==3 and Solovay_Strassen_test(q,10) == True:\n",
    "        break\n",
    "n=p*q # Отправляет Бобу N\n",
    "r = randint(1,n//2)\n",
    "print('r = ',r)\n",
    "z=power_mod(r,2,n)\n",
    "print('z = ',z)"
   ]
  },
  {
   "cell_type": "code",
   "execution_count": 39,
   "metadata": {},
   "outputs": [
    {
     "name": "stdout",
     "output_type": "stream",
     "text": [
      "n =  16094761\n",
      "p =  4259\n",
      "q =  3779\n"
     ]
    }
   ],
   "source": [
    "print('n = ',n)\n",
    "print('p = ',p)\n",
    "print('q = ',q)"
   ]
  },
  {
   "cell_type": "code",
   "execution_count": 7,
   "metadata": {},
   "outputs": [
    {
     "name": "stdout",
     "output_type": "stream",
     "text": [
      "r 1\n",
      "38\n",
      "r 2\n",
      "38\n",
      "r 3\n",
      "171\n",
      "r 4\n",
      "171\n",
      "Угадала с 2-й попытки\n"
     ]
    }
   ],
   "source": [
    "m1=power_mod(z,int((p+1)/4),p)\n",
    "m2=p-power_mod(z,int((p+1)/4),p)\n",
    "m3=power_mod(z,int((q+1)/4),q)\n",
    "m4=q-power_mod(z,int((q+1)/4),q)\n",
    "a=q*inverse_mod(q,p)\n",
    "b=p*inverse_mod(p,q)\n",
    "n=p*q\n",
    "messages=[]\n",
    "messages.append(int((a*m1+b*m3)%n))\n",
    "messages.append(int((a*m1+b*m4)%n))\n",
    "messages.append(int((a*m2+b*m3)%n))\n",
    "messages.append(int((a*m2+b*m4)%n))\n",
    "for i in range(len(messages)):\n",
    "    print('r '+str(i+1))\n",
    "    print(messages[i])\n",
    "for i in range(len(messages)):\n",
    "    k=randint(0,len(messages)-1)\n",
    "    if r == messages[k]:\n",
    "        print('Угадала с '+str(i+1)+'-й попытки')\n",
    "        break\n",
    "    del messages[k]"
   ]
  },
  {
   "cell_type": "code",
   "execution_count": 33,
   "metadata": {},
   "outputs": [],
   "source": [
    "p=11\n",
    "q=19\n",
    "n=p*q\n",
    "r=38\n",
    "z=r**2%n"
   ]
  },
  {
   "cell_type": "code",
   "execution_count": 42,
   "metadata": {
    "scrolled": true
   },
   "outputs": [
    {
     "name": "stdout",
     "output_type": "stream",
     "text": [
      "p =  3583  q =  3911  n =  14013113  r =  1302556\n",
      "Корень 1\n",
      "1302556\n",
      "Корень 2\n",
      "4759880\n",
      "Не угадала\n"
     ]
    }
   ],
   "source": [
    "print('p = ',p,' q = ',q,' n = ',n,' r = ',r)\n",
    "m1=power_mod(z,int((p+1)/4),p)\n",
    "m2=p-power_mod(z,int((p+1)/4),p)\n",
    "m3=power_mod(z,int((q+1)/4),q)\n",
    "m4=q-power_mod(z,int((q+1)/4),q)\n",
    "a=q*inverse_mod(q,p)\n",
    "b=p*inverse_mod(p,q)\n",
    "n=p*q\n",
    "messages=[]\n",
    "messages.append(int((a*m1+b*m3)%n))\n",
    "messages.append(int((a*m1+b*m4)%n))\n",
    "messages.append(int((a*m2+b*m3)%n))\n",
    "messages.append(int((a*m2+b*m4)%n))\n",
    "while i<len(messages):\n",
    "    if messages[i]>(n//2):\n",
    "        del messages[i]\n",
    "        continue\n",
    "    print('Корень '+str(i+1))\n",
    "    print(messages[i])\n",
    "    i+=1\n",
    "for i in range(len(messages)):\n",
    "    k=randint(0,len(messages)-1)\n",
    "    if r == messages[k]:\n",
    "        print('Угадала')\n",
    "        break\n",
    "    else:\n",
    "        print('Не угадала')\n",
    "        break"
   ]
  },
  {
   "cell_type": "code",
   "execution_count": null,
   "metadata": {},
   "outputs": [],
   "source": []
  }
 ],
 "metadata": {
  "kernelspec": {
   "display_name": "SageMath 9.2",
   "language": "sage",
   "name": "sagemath"
  },
  "language_info": {
   "codemirror_mode": {
    "name": "ipython",
    "version": 3
   },
   "file_extension": ".py",
   "mimetype": "text/x-python",
   "name": "python",
   "nbconvert_exporter": "python",
   "pygments_lexer": "ipython3",
   "version": "3.7.7"
  }
 },
 "nbformat": 4,
 "nbformat_minor": 4
}
