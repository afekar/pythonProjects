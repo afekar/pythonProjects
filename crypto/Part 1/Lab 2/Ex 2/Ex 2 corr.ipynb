{
 "cells": [
  {
   "cell_type": "code",
   "execution_count": 1,
   "metadata": {},
   "outputs": [],
   "source": [
    "e = 4705751187432365266054022937100375\n",
    "N = 5048878878182642176438439002102471\n",
    "\n",
    "import math as m\n",
    "def euler(e,u,v):\n",
    "    return (e*v-1)/u\n",
    "\n",
    "def check(u,v):\n",
    "    print('u = '+str(u)+ ' v = '+str(v))\n",
    "    if u==0:\n",
    "        return False\n",
    "    fi=euler(e,u,v)\n",
    "    b=-((N-fi)+1)\n",
    "    D=b**2-4*N\n",
    "    x1=(-b+sqrt(D))/2\n",
    "    x2=(-b-sqrt(D))/2\n",
    "    if int(x1)*int(x2)==N:\n",
    "        print('p = ',x1)\n",
    "        print('q = ',x2)\n",
    "        print('x = ',x1*x2)\n",
    "        return True\n",
    "    \n",
    "def endless(e,N):\n",
    "    u=[]\n",
    "    v=[]\n",
    "    u.append(0)\n",
    "    u.append(1)\n",
    "    v.append(1)\n",
    "    v.append(0)\n",
    "    a0=e//N\n",
    "    x0=e/N-a0\n",
    "    i=2\n",
    "    while True:\n",
    "        u.append(a0*u[i-1]+u[i-2])\n",
    "        v.append(a0*v[i-1]+v[i-2])\n",
    "        a0=int(1/x0)\n",
    "        x0=1/x0-a0\n",
    "        if check(u[i],v[i])==True:\n",
    "            break\n",
    "        i+=1\n",
    "        if x0==0:\n",
    "            u.append(a0*u[i-1]+u[i-2])\n",
    "            v.append(a0*v[i-1]+v[i-2])\n",
    "            print(u)\n",
    "            print(v)\n",
    "            break"
   ]
  },
  {
   "cell_type": "code",
   "execution_count": 2,
   "metadata": {},
   "outputs": [
    {
     "name": "stdout",
     "output_type": "stream",
     "text": [
      "u = 0 v = 1\n",
      "u = 1 v = 1\n",
      "u = 13 v = 14\n",
      "u = 14 v = 15\n",
      "u = 41 v = 44\n",
      "u = 96 v = 103\n",
      "p =  256735638115648949\n",
      "q =  19665672110189579\n",
      "x =  5048878878182642176438439002102471\n"
     ]
    }
   ],
   "source": [
    "x=endless(e,N)"
   ]
  },
  {
   "cell_type": "code",
   "execution_count": null,
   "metadata": {},
   "outputs": [],
   "source": []
  }
 ],
 "metadata": {
  "kernelspec": {
   "display_name": "SageMath 9.2",
   "language": "sage",
   "name": "sagemath"
  },
  "language_info": {
   "codemirror_mode": {
    "name": "ipython",
    "version": 3
   },
   "file_extension": ".py",
   "mimetype": "text/x-python",
   "name": "python",
   "nbconvert_exporter": "python",
   "pygments_lexer": "ipython3",
   "version": "3.7.7"
  }
 },
 "nbformat": 4,
 "nbformat_minor": 4
}
