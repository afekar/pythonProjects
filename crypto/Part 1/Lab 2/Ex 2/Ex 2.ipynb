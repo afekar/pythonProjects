{
 "cells": [
  {
   "cell_type": "code",
   "execution_count": 68,
   "metadata": {},
   "outputs": [],
   "source": [
    "e = 4705751187432365266054022937100375\n",
    "N = 5048878878182642176438439002102471\n",
    "\n",
    "import math as m\n",
    "def euler(e,u,v):\n",
    "    return (e*v-1)/u\n",
    "\n",
    "def check(u,v):\n",
    "    if u==0:\n",
    "        return False\n",
    "    fi=euler(e,u,v)\n",
    "    b=-((N-fi)+1)\n",
    "    D=b**2-4*N\n",
    "    x1=(-b+D**(0.5))/2\n",
    "    x2=(-b-D**(0.5))/2\n",
    "    if (D >= 0) and x1*x2==N:\n",
    "        print('p = ',x1)\n",
    "        print('q = ',x2)\n",
    "        f = open('pqn.txt', 'w')\n",
    "        f.write('p = '+str(int(x1))+'\\n')\n",
    "        f.write('q = '+str(int(x2))+'\\n')\n",
    "        f.write('x = '+str(int(x1*x2))+'\\n')\n",
    "        f.close()\n",
    "        print('x = ',x1*x2)\n",
    "        return True\n",
    "\n",
    "def endless(e,N):\n",
    "    u=[]\n",
    "    v=[]\n",
    "    u0,u1,v0,v1=0, 1 ,1 ,0\n",
    "    a0=e//N\n",
    "    x0=e/N-a0\n",
    "    i=0\n",
    "    while True:\n",
    "        u.append(a0*u1+u0)\n",
    "        v.append(a0*v1+v0)\n",
    "        u0=u1\n",
    "        u1=u[i]\n",
    "        v0=v1\n",
    "        v1=v[i]\n",
    "        a0=1//x0\n",
    "        x0=1/x0-a0\n",
    "        if x0==0 or check(u[i],v[i])==True:\n",
    "            break\n",
    "        i+=1\n",
    "\n",
    "x=endless(e,N)"
   ]
  },
  {
   "cell_type": "code",
   "execution_count": null,
   "metadata": {},
   "outputs": [],
   "source": []
  }
 ],
 "metadata": {
  "kernelspec": {
   "display_name": "Python 3",
   "language": "python",
   "name": "python3"
  },
  "language_info": {
   "codemirror_mode": {
    "name": "ipython",
    "version": 3
   },
   "file_extension": ".py",
   "mimetype": "text/x-python",
   "name": "python",
   "nbconvert_exporter": "python",
   "pygments_lexer": "ipython3",
   "version": "3.7.7"
  }
 },
 "nbformat": 4,
 "nbformat_minor": 4
}
