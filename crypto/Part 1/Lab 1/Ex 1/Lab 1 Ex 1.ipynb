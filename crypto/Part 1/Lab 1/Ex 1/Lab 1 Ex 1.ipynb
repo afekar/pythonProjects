{
 "cells": [
  {
   "cell_type": "code",
   "execution_count": 1,
   "metadata": {},
   "outputs": [],
   "source": [
    "import sympy\n",
    "def power_mod(base, exponent, n):\n",
    "    base = sympy.Integer(base)\n",
    "    exponent = sympy.Integer(exponent)\n",
    "    n = sympy.Integer(n)\n",
    "    x = sympy.Integer(1)\n",
    "    e = exponent\n",
    "    c = sympy.Mod(base, n)\n",
    "    vals = [c]\n",
    "    x += 1\n",
    "    while x <= exponent:\n",
    "        c = sympy.Mod(c**2, n)\n",
    "        vals.append(c)\n",
    "        x *= 2\n",
    "\n",
    "    x /= 2\n",
    "    answer = sympy.Integer(1)\n",
    "    while len(vals) > 0:\n",
    "        nextv = vals.pop()\n",
    "        if x <= e:\n",
    "            answer = sympy.Mod(nextv*answer, n)\n",
    "            e -= x\n",
    "            if e == 0:\n",
    "                break\n",
    "        x /= 2\n",
    "    return answer\n",
    "def Ferma_test(n,k):\n",
    "    for i in range(1,k):\n",
    "        a=randint(2,n-1)\n",
    "        if power_mod(a,n-1,n)!=1:\n",
    "            return print('Результат теста Ферма: n-составное')\n",
    "    return print('Результат теста Ферма: n-простое с вероятностью ',1-2**(-k))\n",
    "\n",
    "def Solovay_Strassen_test(n,k):\n",
    "    for i in range(1,k):\n",
    "        a=randint(2,n-1)\n",
    "        if gcd(a,n)>1:\n",
    "            return print('Результат теста Соловея-Штрассена: n-составное')\n",
    "        else:\n",
    "            symb=kronecker_symbol(a,n)\n",
    "            if power_mod(a,(n-1)/2,n)!=symb:\n",
    "                return print('Результат теста Соловея-Штрассена: n-составное')\n",
    "    return print('Результат теста Соловея-Штрассена: n-простое с вероятностью ',1-2**(-k))"
   ]
  },
  {
   "cell_type": "code",
   "execution_count": 16,
   "metadata": {
    "scrolled": true
   },
   "outputs": [
    {
     "name": "stdout",
     "output_type": "stream",
     "text": [
      "Результат теста Ферма: n-простое с вероятностью  31/32\n"
     ]
    }
   ],
   "source": [
    "Ferma_test(561,5)"
   ]
  },
  {
   "cell_type": "code",
   "execution_count": 3,
   "metadata": {},
   "outputs": [
    {
     "name": "stdout",
     "output_type": "stream",
     "text": [
      "231325291846349061\n",
      "Результат теста Соловея-Штрассена: n-составное\n",
      "Результат теста Ферма: n-составное\n"
     ]
    }
   ],
   "source": [
    "a=randint(200000000000000000,300000000000000000)\n",
    "a-=(a+1)%2\n",
    "print(a)\n",
    "Solovay_Strassen_test(a,10)\n",
    "Ferma_test(a,10)"
   ]
  },
  {
   "cell_type": "code",
   "execution_count": 41,
   "metadata": {},
   "outputs": [
    {
     "name": "stdout",
     "output_type": "stream",
     "text": [
      "233725829720553073\n",
      "Результат теста Соловея-Штрассена: n-составное\n",
      "Результат теста Ферма: n-простое с вероятностью  1023/1024\n"
     ]
    }
   ],
   "source": [
    "a=randint(200000000000000000,300000000000000000)\n",
    "a-=(a+1)%2\n",
    "print(a)\n",
    "Solovay_Strassen_test(a,10)\n",
    "Ferma_test(a,10)"
   ]
  },
  {
   "cell_type": "code",
   "execution_count": 42,
   "metadata": {},
   "outputs": [
    {
     "name": "stdout",
     "output_type": "stream",
     "text": [
      "Результат теста Соловея-Штрассена: n-составное\n"
     ]
    }
   ],
   "source": [
    "Solovay_Strassen_test(561,5)"
   ]
  },
  {
   "cell_type": "code",
   "execution_count": null,
   "metadata": {},
   "outputs": [],
   "source": []
  }
 ],
 "metadata": {
  "kernelspec": {
   "display_name": "SageMath 9.2",
   "language": "sage",
   "name": "sagemath"
  },
  "language_info": {
   "codemirror_mode": {
    "name": "ipython",
    "version": 3
   },
   "file_extension": ".py",
   "mimetype": "text/x-python",
   "name": "python",
   "nbconvert_exporter": "python",
   "pygments_lexer": "ipython3",
   "version": "3.7.7"
  }
 },
 "nbformat": 4,
 "nbformat_minor": 4
}
