{
 "cells": [
  {
   "cell_type": "code",
   "execution_count": 3,
   "metadata": {},
   "outputs": [],
   "source": [
    "import sympy\n",
    "def power_mod(base, exponent, n):\n",
    "    base = sympy.Integer(base)\n",
    "    exponent = sympy.Integer(exponent)\n",
    "    n = sympy.Integer(n)\n",
    "    x = sympy.Integer(1)\n",
    "    e = exponent\n",
    "    c = sympy.Mod(base, n)\n",
    "    vals = [c]\n",
    "    x += 1\n",
    "    while x <= exponent:\n",
    "        c = sympy.Mod(c**2, n)\n",
    "        vals.append(c)\n",
    "        x *= 2\n",
    "\n",
    "    x /= 2\n",
    "    answer = sympy.Integer(1)\n",
    "    while len(vals) > 0:\n",
    "        nextv = vals.pop()\n",
    "        if x <= e:\n",
    "            answer = sympy.Mod(nextv*answer, n)\n",
    "            e -= x\n",
    "            if e == 0:\n",
    "                break\n",
    "        x /= 2\n",
    "    return answer\n",
    "def Solovay_Strassen_test(n,k):\n",
    "    for i in range(1,k):\n",
    "        a=randint(2,n-1)\n",
    "        if gcd(a,n)>1:\n",
    "            return false\n",
    "        else:\n",
    "            symb=kronecker_symbol(a,n)\n",
    "            if symb<0:\n",
    "                symb+=n\n",
    "            if power_mod(a,(n-1)/2,n)!=symb:\n",
    "                return false\n",
    "    return true"
   ]
  },
  {
   "cell_type": "code",
   "execution_count": 5,
   "metadata": {},
   "outputs": [],
   "source": [
    "def find_terms(n):\n",
    "    if n==4:\n",
    "        return print('2'+' '+'2') \n",
    "    for k in range(0,n/2-2,2):\n",
    "        p1=k+3;\n",
    "        p2=n-k-3;\n",
    "        if (Solovay_Strassen_test(p1,10)==true) and (Solovay_Strassen_test(p2,10)==true):\n",
    "            return print(str(p1)+' '+str(p2)) \n",
    "    return('Не удалось найти слагаемые')"
   ]
  },
  {
   "cell_type": "code",
   "execution_count": 8,
   "metadata": {
    "scrolled": true
   },
   "outputs": [
    {
     "name": "stdout",
     "output_type": "stream",
     "text": [
      "2146466\n",
      "43 2146423\n"
     ]
    }
   ],
   "source": [
    "n=randint(10000,10000000)\n",
    "n+=n%2\n",
    "print(n)\n",
    "find_terms(n)"
   ]
  },
  {
   "cell_type": "code",
   "execution_count": 9,
   "metadata": {},
   "outputs": [
    {
     "name": "stdout",
     "output_type": "stream",
     "text": [
      "3 53\n"
     ]
    }
   ],
   "source": [
    "find_terms(56)"
   ]
  },
  {
   "cell_type": "code",
   "execution_count": null,
   "metadata": {},
   "outputs": [],
   "source": []
  }
 ],
 "metadata": {
  "kernelspec": {
   "display_name": "SageMath 9.2",
   "language": "sage",
   "name": "sagemath"
  },
  "language_info": {
   "codemirror_mode": {
    "name": "ipython",
    "version": 3
   },
   "file_extension": ".py",
   "mimetype": "text/x-python",
   "name": "python",
   "nbconvert_exporter": "python",
   "pygments_lexer": "ipython3",
   "version": "3.7.7"
  }
 },
 "nbformat": 4,
 "nbformat_minor": 4
}
