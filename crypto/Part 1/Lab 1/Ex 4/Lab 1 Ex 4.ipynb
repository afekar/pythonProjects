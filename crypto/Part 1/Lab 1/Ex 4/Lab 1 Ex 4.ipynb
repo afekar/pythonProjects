{
 "cells": [
  {
   "cell_type": "code",
   "execution_count": 1,
   "metadata": {},
   "outputs": [],
   "source": [
    "d = {}\n",
    "with open('major_3000.txt','r') as file:\n",
    "    for line in file:\n",
    "        key_, *value = line.split(':')\n",
    "        d[key_] = value\n",
    "file.close()"
   ]
  },
  {
   "cell_type": "code",
   "execution_count": 20,
   "metadata": {},
   "outputs": [],
   "source": [
    "def decrypt(key,c,key_len,f,d):\n",
    "    s=''\n",
    "    key_word=''\n",
    "    x=0\n",
    "    for k in range (len(c)):\n",
    "        s=s+chr(((ord(c[k])-ord('a')+26-key[k % key_len]) % 26)+ord('a'))\n",
    "    for i in range(key_len):\n",
    "        key_word=key_word+chr(key[i]+ord('a'))\n",
    "    return f.write(s+'   Ключ = '+key_word+'\\n')"
   ]
  },
  {
   "cell_type": "code",
   "execution_count": 63,
   "metadata": {},
   "outputs": [
    {
     "name": "stdout",
     "output_type": "stream",
     "text": [
      "Длина ключа = 2\n",
      "Длина ключа = 3\n",
      "Длина ключа = 4\n",
      "done\n"
     ]
    }
   ],
   "source": [
    "c='rsxuvrdifbtkxvxgfhemhoeeei'\n",
    "key=[]\n",
    "s=''\n",
    "f = open('decrypted.txt','w')\n",
    "for key_len in range(2,5):\n",
    "    print('Длина ключа =',key_len)\n",
    "    for i in range(26):\n",
    "        for j in range(26):\n",
    "            key.append(i)\n",
    "            key.append(j)\n",
    "            if key_len==2:\n",
    "                decrypt(key,c,key_len,f,d)\n",
    "            elif key_len>2:\n",
    "                for h in range(26):\n",
    "                    key.append(h)\n",
    "                    if key_len==4:\n",
    "                        for g in range(26):\n",
    "                            key.append(g)\n",
    "                            decrypt(key,c,key_len,f,d)\n",
    "                            del key[-1]\n",
    "                    else:\n",
    "                        decrypt(key,c,key_len,f,d)\n",
    "                    del key[-1]\n",
    "            key.clear()\n",
    "f.close()\n",
    "print('done')"
   ]
  },
  {
   "cell_type": "code",
   "execution_count": 18,
   "metadata": {},
   "outputs": [],
   "source": [
    "def shifts(text, k=1, seq=1):\n",
    "    for items in range(seq):\n",
    "        text_len = len(text)\n",
    "        a_count = [0 for x in range(text_len)]\n",
    "        delta = 0\n",
    "        for index in range(text_len):\n",
    "            if index < text_len - k:\n",
    "                index2 = index+k\n",
    "                a_count[index] = text[index2]\n",
    "            else:\n",
    "                    a_count[index] = text[delta]\n",
    "                    delta = delta + 1\n",
    "        counter = 0\n",
    "        for inx in range(text_len):\n",
    "            if text[inx] == a_count[inx]:\n",
    "                counter = counter + 1\n",
    "        print ('|\\t%d\\t|\\t%d\\t|\\t%f\\t|' % (k, counter, counter/text_len))\n",
    "        k = k + 1   "
   ]
  },
  {
   "cell_type": "code",
   "execution_count": 19,
   "metadata": {},
   "outputs": [
    {
     "name": "stdout",
     "output_type": "stream",
     "text": [
      "|\t2\t|\t2\t|\t0.076923\t|\n",
      "|\t3\t|\t1\t|\t0.038462\t|\n",
      "|\t4\t|\t1\t|\t0.038462\t|\n",
      "|\t5\t|\t2\t|\t0.076923\t|\n",
      "|\t6\t|\t1\t|\t0.038462\t|\n",
      "|\t7\t|\t0\t|\t0.000000\t|\n",
      "|\t8\t|\t2\t|\t0.076923\t|\n",
      "|\t9\t|\t1\t|\t0.038462\t|\n",
      "|\t10\t|\t1\t|\t0.038462\t|\n",
      "|\t11\t|\t0\t|\t0.000000\t|\n",
      "|\t12\t|\t1\t|\t0.038462\t|\n",
      "|\t13\t|\t0\t|\t0.000000\t|\n",
      "|\t14\t|\t1\t|\t0.038462\t|\n",
      "|\t15\t|\t0\t|\t0.000000\t|\n",
      "|\t16\t|\t1\t|\t0.038462\t|\n",
      "|\t17\t|\t1\t|\t0.038462\t|\n",
      "|\t18\t|\t2\t|\t0.076923\t|\n",
      "|\t19\t|\t0\t|\t0.000000\t|\n",
      "|\t20\t|\t1\t|\t0.038462\t|\n",
      "|\t21\t|\t2\t|\t0.076923\t|\n"
     ]
    }
   ],
   "source": [
    "    text = 'rsxuvrdifbtkxvxgfhemhoeeei'\n",
    "    shifts(text, 2, 20)"
   ]
  },
  {
   "cell_type": "code",
   "execution_count": 21,
   "metadata": {},
   "outputs": [
    {
     "name": "stdout",
     "output_type": "stream",
     "text": [
      "Длина ключа = 2\n",
      "Длина ключа = 3\n",
      "Длина ключа = 4\n",
      "done\n"
     ]
    }
   ],
   "source": [
    "c='rsxuvrdifbtkxvxgfhemhoeeei'\n",
    "key=[]\n",
    "s=''\n",
    "f = open('decrypted.txt','w')\n",
    "for key_len in range(2,5):\n",
    "    print('Длина ключа =',key_len)\n",
    "    for i in range(26):\n",
    "        for j in range(26):\n",
    "            key.append(i)\n",
    "            key.append(j)\n",
    "            if key_len==2:\n",
    "                decrypt(key,c,key_len,f,d)\n",
    "            elif key_len>2:\n",
    "                for h in range(26):\n",
    "                    key.append(h)\n",
    "                    if key_len==4:\n",
    "                        for g in range(26):\n",
    "                            key.append(g)\n",
    "                            decrypt(key,c,key_len,f,d)\n",
    "                            del key[-1]\n",
    "                    else:\n",
    "                        decrypt(key,c,key_len,f,d)\n",
    "                    del key[-1]\n",
    "            key.clear()\n",
    "f.close()\n",
    "print('done')"
   ]
  },
  {
   "cell_type": "code",
   "execution_count": null,
   "metadata": {},
   "outputs": [],
   "source": []
  }
 ],
 "metadata": {
  "kernelspec": {
   "display_name": "SageMath 9.2",
   "language": "sage",
   "name": "sagemath"
  },
  "language_info": {
   "codemirror_mode": {
    "name": "ipython",
    "version": 3
   },
   "file_extension": ".py",
   "mimetype": "text/x-python",
   "name": "python",
   "nbconvert_exporter": "python",
   "pygments_lexer": "ipython3",
   "version": "3.7.7"
  }
 },
 "nbformat": 4,
 "nbformat_minor": 4
}
