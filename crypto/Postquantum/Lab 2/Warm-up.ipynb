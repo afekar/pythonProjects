{
 "cells": [
  {
   "cell_type": "code",
   "execution_count": 42,
   "metadata": {},
   "outputs": [],
   "source": [
    "M = Matrix(ZZ, [[1,0,0], [0,1,0], [0,0,1]])"
   ]
  },
  {
   "cell_type": "code",
   "execution_count": 43,
   "metadata": {},
   "outputs": [
    {
     "name": "stdout",
     "output_type": "stream",
     "text": [
      "[1 0 0]\n",
      "[0 1 0]\n",
      "[0 0 1]\n"
     ]
    }
   ],
   "source": [
    "print(M)"
   ]
  },
  {
   "cell_type": "code",
   "execution_count": 44,
   "metadata": {},
   "outputs": [
    {
     "name": "stdout",
     "output_type": "stream",
     "text": [
      "Lattice of degree 3 and rank 3 over Integer Ring\n",
      "Standard basis \n",
      "Standard scalar product\n"
     ]
    }
   ],
   "source": [
    "L=IntegralLattice(M)\n",
    "print(L)"
   ]
  },
  {
   "cell_type": "code",
   "execution_count": 45,
   "metadata": {
    "scrolled": true
   },
   "outputs": [
    {
     "name": "stdout",
     "output_type": "stream",
     "text": [
      "[ 1 23 54]\n",
      "[ 0  1 84]\n",
      "[ 0  0  1]\n",
      "1\n"
     ]
    }
   ],
   "source": [
    "U = Matrix(ZZ, [[1,23,54], [0,1,84], [0,0,1]])\n",
    "print(U)\n",
    "print(U.determinant())"
   ]
  },
  {
   "cell_type": "code",
   "execution_count": 46,
   "metadata": {},
   "outputs": [
    {
     "name": "stdout",
     "output_type": "stream",
     "text": [
      "[ 1 23 54]\n",
      "[ 0  1 84]\n",
      "[ 0  0  1]\n",
      "True\n",
      "1\n",
      "1\n"
     ]
    }
   ],
   "source": [
    "B = Matrix(ZZ,M*U)\n",
    "print(B)\n",
    "print(span(M)==span(B))\n",
    "print(B.det())\n",
    "print(sqrt((B.transpose()*B).det()))"
   ]
  },
  {
   "cell_type": "code",
   "execution_count": 47,
   "metadata": {},
   "outputs": [
    {
     "name": "stdout",
     "output_type": "stream",
     "text": [
      "[           1           23           54]\n",
      "[  -4559/3446 -101411/3446   21639/1723]\n",
      "[1878/3533941  -84/3533941    1/3533941]\n"
     ]
    }
   ],
   "source": [
    "B_=B.gram_schmidt()[0]\n",
    "print(B_)"
   ]
  },
  {
   "cell_type": "code",
   "execution_count": 48,
   "metadata": {},
   "outputs": [
    {
     "data": {
      "text/plain": [
       "0"
      ]
     },
     "execution_count": 48,
     "metadata": {},
     "output_type": "execute_result"
    }
   ],
   "source": [
    "B[0]*B_[2]"
   ]
  },
  {
   "cell_type": "code",
   "execution_count": 49,
   "metadata": {},
   "outputs": [],
   "source": [
    "A = Matrix([[2,1],[1,3]])"
   ]
  },
  {
   "cell_type": "code",
   "execution_count": 50,
   "metadata": {},
   "outputs": [
    {
     "data": {
      "text/plain": [
       "[ 2  1]\n",
       "[-1  2]"
      ]
     },
     "execution_count": 50,
     "metadata": {},
     "output_type": "execute_result"
    }
   ],
   "source": [
    "A.gram_schmidt()[0]"
   ]
  },
  {
   "cell_type": "code",
   "execution_count": 51,
   "metadata": {},
   "outputs": [
    {
     "name": "stdout",
     "output_type": "stream",
     "text": [
      "[ 1 23 54]\n",
      "[ 0  1 84]\n",
      "[ 0  0  1] \n",
      "\n",
      "[   1  -23 1878]\n",
      "[   0    1  -84]\n",
      "[   0    0    1] \n",
      "\n",
      "[   1    0    0]\n",
      "[ -23    1    0]\n",
      "[1878  -84    1] \n",
      "\n"
     ]
    }
   ],
   "source": [
    "print(B,'\\n')\n",
    "dual=B.inverse()\n",
    "print(dual,'\\n')\n",
    "dual=dual.transpose()\n",
    "print(dual,'\\n')"
   ]
  },
  {
   "cell_type": "code",
   "execution_count": 52,
   "metadata": {},
   "outputs": [
    {
     "data": {
      "text/plain": [
       "[1 0 0]\n",
       "[0 1 0]\n",
       "[0 0 1]"
      ]
     },
     "execution_count": 52,
     "metadata": {},
     "output_type": "execute_result"
    }
   ],
   "source": [
    "B*dual.transpose()"
   ]
  },
  {
   "cell_type": "code",
   "execution_count": 53,
   "metadata": {},
   "outputs": [
    {
     "name": "stdout",
     "output_type": "stream",
     "text": [
      "[2 5 3]\n",
      "[4 7 9]\n",
      "[3 7 8]\n",
      "det =  4\n"
     ]
    }
   ],
   "source": [
    "A = Matrix([[2,5,3],[4,7,9],[3,7,8]])\n",
    "lattice = Matrix(GF(11),A)\n",
    "print(lattice)\n",
    "print('det = ',lattice.det())"
   ]
  },
  {
   "cell_type": "code",
   "execution_count": 54,
   "metadata": {},
   "outputs": [
    {
     "name": "stdout",
     "output_type": "stream",
     "text": [
      "[ 1  1  4]\n",
      "[ 0  1 10]\n",
      "[ 0  0  1]\n",
      "det u1 = 1\n",
      "[1 5 4]\n",
      "[0 1 4]\n",
      "[0 0 1]\n",
      "det u2 = 1\n"
     ]
    }
   ],
   "source": [
    "u1 = Matrix(GF(11),[[1,23,4],[0,1,87],[0,0,1]])\n",
    "print(u1)\n",
    "print('det u1 =',u1.det())\n",
    "u2 = Matrix(GF(11),[[1,5,4],[0,1,4],[0,0,1]])\n",
    "print(u2)\n",
    "print('det u2 =',u2.det())"
   ]
  },
  {
   "cell_type": "code",
   "execution_count": 55,
   "metadata": {},
   "outputs": [
    {
     "name": "stdout",
     "output_type": "stream",
     "text": [
      "[ 2  7  6]\n",
      "[ 4  0  7]\n",
      "[ 3 10  2]\n",
      "4\n",
      "[2 4 9]\n",
      "[4 5 9]\n",
      "[3 0 4]\n",
      "4\n"
     ]
    }
   ],
   "source": [
    "basis = lattice*u1\n",
    "print(basis)\n",
    "print(basis.det())\n",
    "basis = lattice*u2\n",
    "print(basis)\n",
    "print(basis.det())"
   ]
  },
  {
   "cell_type": "code",
   "execution_count": 56,
   "metadata": {},
   "outputs": [
    {
     "data": {
      "text/plain": [
       "[-1  0 -1]\n",
       "[-2  2  2]\n",
       "[-2 -3  1]"
      ]
     },
     "execution_count": 56,
     "metadata": {},
     "output_type": "execute_result"
    }
   ],
   "source": [
    "A.LLL()"
   ]
  },
  {
   "cell_type": "code",
   "execution_count": 57,
   "metadata": {},
   "outputs": [],
   "source": [
    "from sage import plot\n",
    "\n",
    "def subsets(s):\n",
    "    n_elems = len(s)\n",
    "    n_subsets = 2**len(s)\n",
    "    for i in range(0,n_subsets):\n",
    "        sub = []\n",
    "        for j in range(0,n_elems):\n",
    "            if (i >> j & 1):\n",
    "                sub.append(s[j])\n",
    "        yield sub\n",
    "\n",
    "def plot_lattice(L,dim, **options):\n",
    "    dim = dim\n",
    "    basis = L.embedded_basis()\n",
    "    basis = sum(([-v, v] for v in basis), [])\n",
    "    points = [sum(v, L(0)) for v in subsets(basis)]\n",
    "    points = [tuple(v.list()) for v in points]\n",
    "    points = set(points)\n",
    "    if dim not in (2, 3):\n",
    "        raise ValueError(\"only 2-dimensional and 3-dimensional lattices can be plotted\")\n",
    "    return plot.point.points(points)\n",
    "gram_matrix = lambda M: matrix(ZZ, M.nrows(), M.ncols(), lambda i, j: M[i]*M[j])\n",
    "LatticeSign = lambda M: Integer(sum(x / abs(x) for x in gram_matrix(M).eigenvalues()))"
   ]
  },
  {
   "cell_type": "code",
   "execution_count": 58,
   "metadata": {},
   "outputs": [
    {
     "data": {
      "text/plain": [
       "3"
      ]
     },
     "execution_count": 58,
     "metadata": {},
     "output_type": "execute_result"
    }
   ],
   "source": [
    "LatticeSign(A)"
   ]
  },
  {
   "cell_type": "code",
   "execution_count": 59,
   "metadata": {},
   "outputs": [
    {
     "data": {
      "text/plain": [
       "[1 0 0]\n",
       "[0 1 0]\n",
       "[0 0 1]"
      ]
     },
     "execution_count": 59,
     "metadata": {},
     "output_type": "execute_result"
    }
   ],
   "source": [
    "gram_matrix(M)"
   ]
  },
  {
   "cell_type": "code",
   "execution_count": 60,
   "metadata": {},
   "outputs": [
    {
     "data": {
      "text/plain": [
       "[ 0  0  1]\n",
       "[ 0  1  0]\n",
       "[-1  0  0]"
      ]
     },
     "execution_count": 60,
     "metadata": {},
     "output_type": "execute_result"
    }
   ],
   "source": [
    "B.LLL()"
   ]
  },
  {
   "cell_type": "code",
   "execution_count": 63,
   "metadata": {},
   "outputs": [
    {
     "data": {
      "text/plain": [
       "[ 1  0  0]\n",
       "[10  1  0]\n",
       "[ 6  1  1]"
      ]
     },
     "execution_count": 63,
     "metadata": {},
     "output_type": "execute_result"
    }
   ],
   "source": [
    "dual_lattice = lambda M: M * (M.transpose() * M).inverse()\n",
    "u1_ = dual_lattice(u1); u1_"
   ]
  },
  {
   "cell_type": "code",
   "execution_count": 64,
   "metadata": {},
   "outputs": [
    {
     "data": {
      "text/plain": [
       "[1 0 0]\n",
       "[0 1 0]\n",
       "[0 0 1]"
      ]
     },
     "execution_count": 64,
     "metadata": {},
     "output_type": "execute_result"
    }
   ],
   "source": [
    "u1*u1_.transpose()"
   ]
  },
  {
   "cell_type": "code",
   "execution_count": null,
   "metadata": {},
   "outputs": [],
   "source": []
  }
 ],
 "metadata": {
  "kernelspec": {
   "display_name": "SageMath 9.2",
   "language": "sage",
   "name": "sagemath"
  },
  "language_info": {
   "codemirror_mode": {
    "name": "ipython",
    "version": 3
   },
   "file_extension": ".py",
   "mimetype": "text/x-python",
   "name": "python",
   "nbconvert_exporter": "python",
   "pygments_lexer": "ipython3",
   "version": "3.7.7"
  }
 },
 "nbformat": 4,
 "nbformat_minor": 4
}
