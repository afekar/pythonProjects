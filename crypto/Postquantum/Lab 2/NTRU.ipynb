{
 "cells": [
  {
   "cell_type": "code",
   "execution_count": 2,
   "metadata": {},
   "outputs": [],
   "source": [
    "p=3\n",
    "q=32\n",
    "n=11\n",
    "from random import randint\n",
    "def mix(l):\n",
    "    for i in range (len(l)):\n",
    "        idx = randint(0,len(l)-1)\n",
    "        temp = l[idx]\n",
    "        l[idx] = l[len(l)-idx-1]\n",
    "        l[len(l)-idx-1] = temp\n",
    "    return l\n",
    "def gen_f(df,n):\n",
    "    f = df*[1]+[-1]*(df-1)+[0]*(n-2*df+1)\n",
    "    return f\n",
    "def gen_g(dg,n):\n",
    "    g = dg*[1]+[-1]*dg+[0]*(n-2*dg)\n",
    "    return g\n",
    "def convolution(f,g):\n",
    "    return (f*g)%(x^n-1)\n",
    "def balancedmod(f,q):\n",
    "    g = list(((f[i] + q//2) % q) - q//2 for i in range(n))\n",
    "    return Zx(g)\n",
    "def invertmodprime(f,p):\n",
    "    T = Zx.change_ring(Integers(p)).quotient(x^n-1)\n",
    "    return Zx(lift(1 / T(f)))\n",
    "def invertmodPowOf2(f,q):\n",
    "    assert q.is_power_of(2)\n",
    "    g = invertmodprime(f,2)\n",
    "    while True:\n",
    "        r = balancedmod(convolution(g,f),q)\n",
    "        if r == 1: return g\n",
    "        g = balancedmod(convolution(g,2 - r),q)"
   ]
  },
  {
   "cell_type": "code",
   "execution_count": 3,
   "metadata": {},
   "outputs": [
    {
     "name": "stdout",
     "output_type": "stream",
     "text": [
      "f =  [1, 1, 1, 1, -1, -1, -1, 0, 0, 0, 0]\n",
      "g =  [1, 1, 1, -1, -1, -1, 0, 0, 0, 0, 0]\n"
     ]
    }
   ],
   "source": [
    "#q=41\n",
    "#n=7\n",
    "f = gen_f(4,11)\n",
    "print('f = ',f)\n",
    "g = gen_g(3,11)\n",
    "print('g = ',g)"
   ]
  },
  {
   "cell_type": "code",
   "execution_count": 4,
   "metadata": {},
   "outputs": [
    {
     "name": "stdout",
     "output_type": "stream",
     "text": [
      "f =  [0, 1, 1, 1, -1, -1, -1, 0, 0, 0, 1]\n",
      "g =  [0, 1, 1, 0, -1, -1, 0, -1, 0, 0, 1]\n"
     ]
    }
   ],
   "source": [
    "print('f = ',mix(f))\n",
    "print('g = ',mix(g))"
   ]
  },
  {
   "cell_type": "code",
   "execution_count": 5,
   "metadata": {},
   "outputs": [],
   "source": [
    "f = vector(f)\n",
    "g = vector(g)"
   ]
  },
  {
   "cell_type": "code",
   "execution_count": 6,
   "metadata": {},
   "outputs": [],
   "source": [
    "def ToPoly(f,n):\n",
    "    #F = GF(n)\n",
    "    Zx.<x> = ZZ[]\n",
    "    poly = 0\n",
    "    for i in range(n):\n",
    "        poly += f[i]*pow(x,i)\n",
    "    return poly"
   ]
  },
  {
   "cell_type": "code",
   "execution_count": 7,
   "metadata": {},
   "outputs": [
    {
     "name": "stdout",
     "output_type": "stream",
     "text": [
      "f(x) =  -x^10 + x^9 + x^6 - x^4 + x^2 + x - 1\n",
      "g(x) =  -x^10 - x^8 + x^5 + x^3 + x^2 - 1\n"
     ]
    }
   ],
   "source": [
    "f = [-1,1,1,0,-1,0,1,0,0,1,-1]\n",
    "g = [-1,0,1,1,0,1,0,0,-1,0,-1]\n",
    "Zx.<x> = ZZ[]\n",
    "f = Zx(f)\n",
    "print('f(x) = ',f)\n",
    "g = Zx(g)\n",
    "print('g(x) = ',g)"
   ]
  },
  {
   "cell_type": "code",
   "execution_count": 9,
   "metadata": {},
   "outputs": [
    {
     "name": "stdout",
     "output_type": "stream",
     "text": [
      "2*x^9 + x^8 + 2*x^7 + x^5 + 2*x^4 + 2*x^3 + 2*x + 1\n",
      "-2*x^10 - 14*x^9 - 12*x^8 - 10*x^7 - 16*x^6 + 15*x^5 + 4*x^4 - 16*x^3 + 6*x^2 + 9*x + 5\n"
     ]
    }
   ],
   "source": [
    "f_p = invertmodprime(f,p)\n",
    "print(f_p)\n",
    "f_q = invertmodPowOf2(f,q)\n",
    "print(f_q)"
   ]
  },
  {
   "cell_type": "code",
   "execution_count": 10,
   "metadata": {},
   "outputs": [
    {
     "name": "stdout",
     "output_type": "stream",
     "text": [
      "-16*x^10 - 13*x^9 + 12*x^8 - 13*x^7 + 15*x^6 - 8*x^5 + 12*x^4 - 12*x^3 - 10*x^2 - 7*x + 8\n"
     ]
    }
   ],
   "source": [
    "h = balancedmod(p*convolution(f_q,g),q)\n",
    "print(h)"
   ]
  },
  {
   "cell_type": "code",
   "execution_count": 11,
   "metadata": {},
   "outputs": [
    {
     "name": "stdout",
     "output_type": "stream",
     "text": [
      "-13*x^10 + 6*x^9 - 7*x^8 + 7*x^7 - 2*x^6 - 16*x^5 + 14*x^4 - 8*x^3 - 6*x^2 + 11*x + 14\n"
     ]
    }
   ],
   "source": [
    "m = -1+x^3-x^4-x^8+x^9+x^10\n",
    "r = -1+x^2+x^3+x^4-x^5-x^7\n",
    "e = balancedmod((convolution(r,h)+m),q)\n",
    "print(e)"
   ]
  },
  {
   "cell_type": "code",
   "execution_count": 12,
   "metadata": {},
   "outputs": [
    {
     "name": "stdout",
     "output_type": "stream",
     "text": [
      "-7*x^10 - 3*x^9 + 5*x^8 + 7*x^7 + 6*x^6 + 7*x^5 + 10*x^4 - 11*x^3 - 10*x^2 - 7*x + 3\n"
     ]
    }
   ],
   "source": [
    "a = balancedmod(convolution(f,e),q)\n",
    "print(a)"
   ]
  },
  {
   "cell_type": "code",
   "execution_count": 13,
   "metadata": {},
   "outputs": [
    {
     "name": "stdout",
     "output_type": "stream",
     "text": [
      "-x^10 - x^8 + x^7 + x^5 + x^4 + x^3 - x^2 - x\n"
     ]
    }
   ],
   "source": [
    "b = balancedmod(a,p)\n",
    "print(b)"
   ]
  },
  {
   "cell_type": "code",
   "execution_count": 17,
   "metadata": {},
   "outputs": [
    {
     "name": "stdout",
     "output_type": "stream",
     "text": [
      "x^10 + x^9 - x^8 - x^4 + x^3 - 1\n"
     ]
    }
   ],
   "source": [
    "c = balancedmod(convolution(f_p,b),p)\n",
    "print(c)"
   ]
  },
  {
   "cell_type": "code",
   "execution_count": null,
   "metadata": {},
   "outputs": [],
   "source": []
  }
 ],
 "metadata": {
  "kernelspec": {
   "display_name": "SageMath 9.2",
   "language": "sage",
   "name": "sagemath"
  },
  "language_info": {
   "codemirror_mode": {
    "name": "ipython",
    "version": 3
   },
   "file_extension": ".py",
   "mimetype": "text/x-python",
   "name": "python",
   "nbconvert_exporter": "python",
   "pygments_lexer": "ipython3",
   "version": "3.7.7"
  }
 },
 "nbformat": 4,
 "nbformat_minor": 4
}
