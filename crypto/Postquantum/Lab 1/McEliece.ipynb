{
 "cells": [
  {
   "cell_type": "code",
   "execution_count": 2,
   "metadata": {},
   "outputs": [
    {
     "name": "stdout",
     "output_type": "stream",
     "text": [
      "(x + a^2 + a) * (x + a^2 + a + 1)\n",
      "14 6\n"
     ]
    }
   ],
   "source": [
    "m=4\n",
    "F = GF(2^m,'a')\n",
    "R.<x> = F[]\n",
    "g=x^2+x+1\n",
    "print(factor(g))\n",
    "L = [a for a in F.list() if g(a) != 0]\n",
    "C = codes.GoppaCode(g, L)\n",
    "D = C.decoder()\n",
    "G=C.generator_matrix()\n",
    "k=len(G.transpose()[0])\n",
    "n=len(G[0])\n",
    "print(n,k)\n",
    "H=C.parity_check_matrix()"
   ]
  },
  {
   "cell_type": "code",
   "execution_count": 2,
   "metadata": {},
   "outputs": [
    {
     "data": {
      "text/plain": [
       "5"
      ]
     },
     "execution_count": 2,
     "metadata": {},
     "output_type": "execute_result"
    }
   ],
   "source": [
    "C.minimum_distance()"
   ]
  },
  {
   "cell_type": "code",
   "execution_count": 4,
   "metadata": {},
   "outputs": [
    {
     "name": "stdout",
     "output_type": "stream",
     "text": [
      "2\n"
     ]
    }
   ],
   "source": [
    "t=(C.minimum_distance()-1)//2\n",
    "print(t)"
   ]
  },
  {
   "cell_type": "code",
   "execution_count": 5,
   "metadata": {},
   "outputs": [],
   "source": [
    "E = codes.encoders.GoppaCodeEncoder(C)"
   ]
  },
  {
   "cell_type": "code",
   "execution_count": 6,
   "metadata": {},
   "outputs": [],
   "source": [
    "def getvector(vec,number,k):\n",
    "    for i in range(k):\n",
    "        temp=pow(2,k-1-i)\n",
    "        if temp<=number:\n",
    "            vec[i]=1\n",
    "            number-=temp\n",
    "        else:\n",
    "            vec[i]=0\n",
    "    return vec"
   ]
  },
  {
   "cell_type": "code",
   "execution_count": 24,
   "metadata": {},
   "outputs": [
    {
     "data": {
      "text/plain": [
       "[1 0 0 0 0 0 0 1 1 0 0 1 0 1]\n",
       "[0 1 0 0 0 1 0 0 1 1 1 0 0 1]\n",
       "[0 0 1 0 0 1 0 1 1 1 0 0 1 1]\n",
       "[0 0 0 1 0 1 0 1 0 0 1 1 0 1]\n",
       "[0 0 0 0 1 0 0 1 1 0 1 1 1 0]\n",
       "[0 0 0 0 0 0 1 0 0 1 0 1 1 1]"
      ]
     },
     "execution_count": 24,
     "metadata": {},
     "output_type": "execute_result"
    }
   ],
   "source": [
    "G"
   ]
  },
  {
   "cell_type": "code",
   "execution_count": 9,
   "metadata": {},
   "outputs": [
    {
     "data": {
      "text/plain": [
       "[1 0 0 0 0 0 0 0]\n",
       "[0 1 1 0 0 0 1 1]\n",
       "[1 1 1 0 1 1 1 1]\n",
       "[1 1 0 1 1 1 1 0]\n",
       "[0 1 1 0 0 1 0 1]\n",
       "[1 0 0 1 0 1 1 0]\n",
       "[0 1 1 1 0 0 0 1]\n",
       "[1 1 1 0 0 0 0 1]\n",
       "[0 1 1 1 0 1 1 0]\n",
       "[1 0 1 1 0 1 0 1]\n",
       "[1 0 1 1 1 1 1 0]\n",
       "[1 0 0 1 1 1 1 1]\n",
       "[1 1 0 1 0 0 1 1]\n",
       "[1 0 0 0 1 0 0 0]"
      ]
     },
     "execution_count": 9,
     "metadata": {},
     "output_type": "execute_result"
    }
   ],
   "source": [
    "H_t=H.transpose()\n",
    "H_t"
   ]
  },
  {
   "cell_type": "code",
   "execution_count": 10,
   "metadata": {},
   "outputs": [],
   "source": [
    "S_=[[0 for y in range(k)] for x in range(k)]\n",
    "for i in range(k):\n",
    "    for j in range(k):\n",
    "        if (i==j):\n",
    "            S_[i][j]=1\n",
    "        elif (i<j):\n",
    "            S_[i][j]=randint(0,1)\n",
    "        else:\n",
    "            S_[i][j]=0"
   ]
  },
  {
   "cell_type": "code",
   "execution_count": 11,
   "metadata": {},
   "outputs": [
    {
     "name": "stdout",
     "output_type": "stream",
     "text": [
      "[1 0 1 1 1 0]\n",
      "[0 1 0 1 0 0]\n",
      "[0 0 1 0 1 1]\n",
      "[0 0 0 1 1 1]\n",
      "[0 0 0 0 1 1]\n",
      "[0 0 0 0 0 1]\n"
     ]
    }
   ],
   "source": [
    "S=Matrix(GF(2),S_)\n",
    "s_inv=S.inverse()\n",
    "print(S)"
   ]
  },
  {
   "cell_type": "code",
   "execution_count": 12,
   "metadata": {},
   "outputs": [
    {
     "name": "stdout",
     "output_type": "stream",
     "text": [
      "[1 0 0 0 0 0 0 0 0 0 0 0 0 0]\n",
      "[0 1 0 0 0 0 0 0 0 0 0 0 0 0]\n",
      "[0 0 1 0 0 0 0 0 0 0 0 0 0 0]\n",
      "[0 0 0 1 0 0 0 0 0 0 0 0 0 0]\n",
      "[0 0 0 0 1 0 0 0 0 0 0 0 0 0]\n",
      "[0 0 0 0 0 1 0 0 0 0 0 0 0 0]\n",
      "[0 0 0 0 0 0 1 0 0 0 0 0 0 0]\n",
      "[0 0 0 0 0 0 0 1 0 0 0 0 0 0]\n",
      "[0 0 0 0 0 0 0 0 1 0 0 0 0 0]\n",
      "[0 0 0 0 0 0 0 0 0 1 0 0 0 0]\n",
      "[0 0 0 0 0 0 0 0 0 0 1 0 0 0]\n",
      "[0 0 0 0 0 0 0 0 0 0 0 1 0 0]\n",
      "[0 0 0 0 0 0 0 0 0 0 0 0 1 0]\n",
      "[0 0 0 0 0 0 0 0 0 0 0 0 0 1]\n"
     ]
    }
   ],
   "source": [
    "P_=[[0 for y in range(n)] for x in range(n)]\n",
    "for i in range(n):\n",
    "    for j in range(n):\n",
    "        if (i==j):\n",
    "            P_[i][j]=1\n",
    "P=Matrix(GF(2),P_)\n",
    "print(P)"
   ]
  },
  {
   "cell_type": "code",
   "execution_count": 13,
   "metadata": {},
   "outputs": [],
   "source": [
    "def swap_cols(M,col1,col2,dim):\n",
    "    for i in range(dim):\n",
    "        if M[i][col1]==1:\n",
    "            temp1=i\n",
    "        if M[i][col2]==1:\n",
    "            temp2=i \n",
    "    M[temp1][col2]=1\n",
    "    M[temp2][col2]=0\n",
    "    M[temp2][col1]=1\n",
    "    M[temp1][col1]=0\n",
    "    return M"
   ]
  },
  {
   "cell_type": "code",
   "execution_count": 14,
   "metadata": {},
   "outputs": [
    {
     "name": "stdout",
     "output_type": "stream",
     "text": [
      "[0 1 0 0 0 0 0 0 0 0 0 0 0 0]\n",
      "[1 0 0 0 0 0 0 0 0 0 0 0 0 0]\n",
      "[0 0 1 0 0 0 0 0 0 0 0 0 0 0]\n",
      "[0 0 0 0 1 0 0 0 0 0 0 0 0 0]\n",
      "[0 0 0 0 0 0 0 0 0 0 0 0 1 0]\n",
      "[0 0 0 0 0 0 0 0 0 1 0 0 0 0]\n",
      "[0 0 0 0 0 0 0 0 0 0 0 0 0 1]\n",
      "[0 0 0 0 0 0 0 1 0 0 0 0 0 0]\n",
      "[0 0 0 0 0 0 0 0 1 0 0 0 0 0]\n",
      "[0 0 0 0 0 0 1 0 0 0 0 0 0 0]\n",
      "[0 0 0 0 0 0 0 0 0 0 1 0 0 0]\n",
      "[0 0 0 0 0 0 0 0 0 0 0 1 0 0]\n",
      "[0 0 0 0 0 1 0 0 0 0 0 0 0 0]\n",
      "[0 0 0 1 0 0 0 0 0 0 0 0 0 0]\n"
     ]
    }
   ],
   "source": [
    "for i in range(len(P_)):\n",
    "    k1=randint(0,len(P_)-1)\n",
    "    k2=randint(0,len(P_)-1)\n",
    "    if k2!=k1:\n",
    "        swap_cols(P_,k1,k2,len(P_))\n",
    "P=Matrix(GF(2),P_)\n",
    "p_inv=P.inverse()\n",
    "print(P)"
   ]
  },
  {
   "cell_type": "code",
   "execution_count": 15,
   "metadata": {},
   "outputs": [
    {
     "data": {
      "text/plain": [
       "[0 1 1 1 1 0 1 0 1 0 0 1 1 0]\n",
       "[1 0 0 0 1 0 1 1 1 0 0 1 0 0]\n",
       "[0 0 1 0 0 1 0 0 0 1 1 0 1 1]\n",
       "[0 0 0 0 1 0 1 0 1 1 0 1 1 1]\n",
       "[0 0 0 1 0 0 1 1 1 0 1 0 1 1]\n",
       "[0 0 0 1 0 1 1 0 0 0 0 1 0 1]"
      ]
     },
     "execution_count": 15,
     "metadata": {},
     "output_type": "execute_result"
    }
   ],
   "source": [
    "G_pub=S*G*P\n",
    "G_pub"
   ]
  },
  {
   "cell_type": "code",
   "execution_count": 16,
   "metadata": {},
   "outputs": [
    {
     "name": "stdout",
     "output_type": "stream",
     "text": [
      "message (0, 1, 1, 0, 0, 0)\n",
      "error (0, 0, 0, 0, 0, 0, 0, 1, 0, 0, 0, 1, 0, 0)\n"
     ]
    }
   ],
   "source": [
    "message = vector(GF(2),[0 for y in range(k)])\n",
    "for i in range(k):\n",
    "    message[i]=randint(0,1)\n",
    "error = vector(GF(2),[0 for y in range(n)])\n",
    "for i in range(t):\n",
    "    temp = randint(0,n-1)\n",
    "    if error[temp]==1:\n",
    "        while True:\n",
    "            temp = randint(0,k-1)\n",
    "            if error[temp]!=1:\n",
    "                break\n",
    "    error[temp]=1\n",
    "print('message',message)\n",
    "print('error',error)"
   ]
  },
  {
   "cell_type": "code",
   "execution_count": 17,
   "metadata": {},
   "outputs": [
    {
     "name": "stdout",
     "output_type": "stream",
     "text": [
      "(1, 0, 1, 0, 1, 1, 1, 1, 1, 1, 1, 1, 1, 1)\n",
      "(1, 0, 1, 0, 1, 1, 1, 0, 1, 1, 1, 0, 1, 1)\n"
     ]
    }
   ],
   "source": [
    "code = message*G_pub\n",
    "print(code)\n",
    "cipher=code+error\n",
    "print(cipher)"
   ]
  },
  {
   "cell_type": "code",
   "execution_count": 22,
   "metadata": {},
   "outputs": [],
   "source": [
    "cipher_=cipher*p_inv\n",
    "m_=D.decode_to_message(cipher_)"
   ]
  },
  {
   "cell_type": "code",
   "execution_count": 25,
   "metadata": {},
   "outputs": [
    {
     "name": "stdout",
     "output_type": "stream",
     "text": [
      "(0, 1, 1, 0, 0, 0)\n"
     ]
    }
   ],
   "source": [
    "print(m_*s_inv)"
   ]
  },
  {
   "cell_type": "code",
   "execution_count": 3,
   "metadata": {},
   "outputs": [
    {
     "name": "stdout",
     "output_type": "stream",
     "text": [
      "[0, a, a^2, a^3, a + 1, a^3 + a^2, a^3 + a + 1, a^2 + 1, a^3 + a, a^3 + a^2 + a, a^3 + a^2 + a + 1, a^3 + a^2 + 1, a^3 + 1, 1]\n"
     ]
    }
   ],
   "source": [
    "print(L)"
   ]
  },
  {
   "cell_type": "code",
   "execution_count": null,
   "metadata": {},
   "outputs": [],
   "source": []
  }
 ],
 "metadata": {
  "kernelspec": {
   "display_name": "SageMath 9.2",
   "language": "sage",
   "name": "sagemath"
  },
  "language_info": {
   "codemirror_mode": {
    "name": "ipython",
    "version": 3
   },
   "file_extension": ".py",
   "mimetype": "text/x-python",
   "name": "python",
   "nbconvert_exporter": "python",
   "pygments_lexer": "ipython3",
   "version": "3.7.7"
  }
 },
 "nbformat": 4,
 "nbformat_minor": 4
}
