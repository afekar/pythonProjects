{
 "cells": [
  {
   "cell_type": "code",
   "execution_count": 368,
   "metadata": {},
   "outputs": [
    {
     "name": "stdout",
     "output_type": "stream",
     "text": [
      "x^3 + x + 1\n",
      "[0, a, a^2, a^3, a + 1, a^2 + a, a^3 + a^2, a^3 + a + 1, a^2 + 1, a^3 + a, a^2 + a + 1, a^3 + a^2 + a, a^3 + a^2 + a + 1, a^3 + a^2 + 1, a^3 + 1, 1]\n",
      "dmin = 7\n",
      "[16, 4] Goppa code over GF(2)\n",
      "H\n",
      " [1 1 0 0 0 1 1 1 1 1 0 0 1 1 0 1]\n",
      "[0 0 1 1 0 1 1 1 1 0 1 1 0 1 1 0]\n",
      "[0 1 0 1 1 1 0 1 0 1 1 1 0 1 1 0]\n",
      "[0 0 0 1 0 0 1 0 0 1 0 0 1 0 0 0]\n",
      "[0 0 0 1 0 1 1 0 1 1 1 0 0 1 1 1]\n",
      "[0 1 0 0 0 0 0 0 1 1 0 1 1 0 1 0]\n",
      "[0 0 0 0 1 0 1 1 1 0 0 0 1 1 0 0]\n",
      "[0 1 1 1 1 0 1 0 1 1 0 0 1 0 0 0]\n",
      "[0 1 0 0 1 0 1 0 0 0 1 1 1 0 0 1]\n",
      "[0 1 1 0 1 1 1 1 1 1 1 1 0 0 0 0]\n",
      "[0 1 1 1 1 1 0 0 1 0 1 1 1 1 0 0]\n",
      "[0 0 0 0 0 0 0 1 0 0 0 1 0 1 1 0]\n",
      "\n",
      "H в систематическом виде\n",
      " [1 0 0 0 0 0 0 0 0 0 0 0 1 1 0 0]\n",
      "[0 1 0 0 0 0 0 0 0 0 0 0 1 1 1 1]\n",
      "[0 0 1 0 0 0 0 0 0 0 0 0 1 0 0 1]\n",
      "[0 0 0 1 0 0 0 0 0 0 0 0 1 0 0 0]\n",
      "[0 0 0 0 1 0 0 0 0 0 0 0 1 1 1 1]\n",
      "[0 0 0 0 0 1 0 0 0 0 0 0 0 0 1 1]\n",
      "[0 0 0 0 0 0 1 0 0 0 0 0 1 1 1 0]\n",
      "[0 0 0 0 0 0 0 1 0 0 0 0 0 1 0 0]\n",
      "[0 0 0 0 0 0 0 0 1 0 0 0 1 0 0 1]\n",
      "[0 0 0 0 0 0 0 0 0 1 0 0 1 1 1 0]\n",
      "[0 0 0 0 0 0 0 0 0 0 1 0 0 1 0 1]\n",
      "[0 0 0 0 0 0 0 0 0 0 0 1 0 0 1 0]\n"
     ]
    }
   ],
   "source": [
    "m=4\n",
    "F = GF(2^4, 'a')\n",
    "R.<x> = F[]\n",
    "t=3\n",
    "#g = get_poly(F,t)\n",
    "g=x^3 + x + 1\n",
    "print(g)\n",
    "L = [a for a in F.list() if g(a) != 0]\n",
    "print(L)\n",
    "C = codes.GoppaCode(g, L)\n",
    "G = C.generator_matrix()\n",
    "print('dmin =',C.minimum_distance())\n",
    "D = C.decoder()\n",
    "print(C)\n",
    "n = len(L)\n",
    "t = 3\n",
    "k =  n - m*t\n",
    "H = matrix(GF(2^4), C.parity_check_matrix())\n",
    "print('H\\n',H),\n",
    "H_ = Matrix(GF(2^4),H.echelon_form())\n",
    "print()\n",
    "print('H в систематическом виде\\n',H_)"
   ]
  },
  {
   "cell_type": "code",
   "execution_count": 369,
   "metadata": {},
   "outputs": [],
   "source": [
    "def get_poly(F,t):\n",
    "    R.<x> = F[]\n",
    "    z = x^t\n",
    "    while True:\n",
    "        for i in range(t):\n",
    "            z+=(x^(i))*randint(0,1)\n",
    "        if len(factor(z))==1 and factor(z)[0][1]==1:\n",
    "            break\n",
    "        z=0\n",
    "        z=x^t\n",
    "    return z"
   ]
  },
  {
   "cell_type": "code",
   "execution_count": 370,
   "metadata": {},
   "outputs": [],
   "source": [
    "def magic(t,n):\n",
    "    message = vector(GF(2^m),[0 for y in range(n)])\n",
    "    for i in range(t):\n",
    "        temp = randint(0,n-1)\n",
    "        if message[temp]==1:\n",
    "            while True:\n",
    "                temp = randint(0,n-1)\n",
    "                if message[temp]!=1:\n",
    "                    break\n",
    "        message[temp]=1\n",
    "    return message"
   ]
  },
  {
   "cell_type": "code",
   "execution_count": 371,
   "metadata": {},
   "outputs": [
    {
     "name": "stdout",
     "output_type": "stream",
     "text": [
      "(0, 0, 0, 0, 1, 0, 0, 0, 0, 0, 1, 0, 0, 0, 0, 1)\n"
     ]
    }
   ],
   "source": [
    "message = magic(t,n)\n",
    "print(message)\n",
    "H_t= Matrix(H_)"
   ]
  },
  {
   "cell_type": "code",
   "execution_count": 372,
   "metadata": {},
   "outputs": [
    {
     "name": "stdout",
     "output_type": "stream",
     "text": [
      "(0, 1, 1, 0, 0, 1, 0, 0, 1, 0, 0, 0)\n"
     ]
    }
   ],
   "source": [
    "c0=[]\n",
    "c0 = H_t*message\n",
    "print(c0)"
   ]
  },
  {
   "cell_type": "code",
   "execution_count": 373,
   "metadata": {},
   "outputs": [
    {
     "name": "stdout",
     "output_type": "stream",
     "text": [
      "[1 0 0 0 0 0 0 0 0 0 0 0 1 1 0 0]\n",
      "[0 1 0 0 0 0 0 0 0 0 0 0 1 1 1 1]\n",
      "[0 0 1 0 0 0 0 0 0 0 0 0 1 0 0 1]\n",
      "[0 0 0 1 0 0 0 0 0 0 0 0 1 0 0 0]\n",
      "[0 0 0 0 1 0 0 0 0 0 0 0 1 1 1 1]\n",
      "[0 0 0 0 0 1 0 0 0 0 0 0 0 0 1 1]\n",
      "[0 0 0 0 0 0 1 0 0 0 0 0 1 1 1 0]\n",
      "[0 0 0 0 0 0 0 1 0 0 0 0 0 1 0 0]\n",
      "[0 0 0 0 0 0 0 0 1 0 0 0 1 0 0 1]\n",
      "[0 0 0 0 0 0 0 0 0 1 0 0 1 1 1 0]\n",
      "[0 0 0 0 0 0 0 0 0 0 1 0 0 1 0 1]\n",
      "[0 0 0 0 0 0 0 0 0 0 0 1 0 0 1 0]\n"
     ]
    }
   ],
   "source": [
    "print(H_t)"
   ]
  },
  {
   "cell_type": "code",
   "execution_count": 374,
   "metadata": {},
   "outputs": [],
   "source": [
    "def decoder_Patterson(g,c):\n",
    "    s = vector(GF(2), list(c) + [0]*k)\n",
    "    print(c)\n",
    "    print('Расшиернный вектор :',s)\n",
    "    L = F.list()\n",
    "    Sx=0\n",
    "    for i in range(n):\n",
    "        Sx+=s[i]*inverse_mod(x-L[i], g)\n",
    "    Sx=Sx%g\n",
    "    Tx=(Sx.inverse_mod(g))\n",
    "    print(\"S(x) =\",Sx)\n",
    "    print(\"T(x) =\",Tx)\n",
    "    print(\"T(x)*S(x) mod G(x) =\",Tx*Sx%g)\n",
    "    Tx=(Tx+x)%g\n",
    "    px=0\n",
    "    r=t\n",
    "    for i in range(r+1):\n",
    "        if i%2==0:\n",
    "            px+=pow(Tx[i],2^(m-1),g)*pow(x,i//2,g)\n",
    "        else:\n",
    "            px+=pow(Tx[i],2^(m-1),g)*pow(x,i//2,g)*pow(x,2^(m*r-1),g)\n",
    "    px%=g\n",
    "    print(\"P(x) =\",px)\n",
    "    r_ix = []\n",
    "    v_ix = []\n",
    "    r_ix.append(g)\n",
    "    r_ix.append(px)\n",
    "    v_ix.append(0)\n",
    "    v_ix.append(1)\n",
    "    i=0\n",
    "    while (r_ix[i].degree()>r/2 and r_ix[i+1].degree() <= r/2)!=True:\n",
    "        rem = r_ix[i].mod(r_ix[i+1])\n",
    "        r_ix.append(rem)\n",
    "        q =  (r_ix[i] - r_ix[i+2]) // r_ix[i+1]\n",
    "        v_ix.append((v_ix[i]-v_ix[i+1]*q).mod(g))\n",
    "        i+=1\n",
    "    ax=r_ix[i+1]\n",
    "    bx=v_ix[i+1]\n",
    "    print(\"a(x) =\",ax)\n",
    "    print(\"b(x) =\",bx)\n",
    "    sigma_x=ax^2+x*bx^2\n",
    "    print(\"Sigma(x) =\",sigma_x)\n",
    "    roots = [a for a, i in sigma_x.roots()]\n",
    "    print('Корни',roots)\n",
    "    code = []\n",
    "    for j in range(len(roots)):\n",
    "        for i in range(len(L)):\n",
    "            if roots[j]==L[i]:\n",
    "                code.append(i)\n",
    "                break\n",
    "    code_ = [0 for y in range (n)]\n",
    "    z=len(code)\n",
    "    for j in range(len(code)):\n",
    "        code_[code[j]]=1\n",
    "    result = vector(GF(2),code_)\n",
    "    print('v',s)\n",
    "    print('c',result)\n",
    "    if z==t:\n",
    "        return print(result)\n",
    "    return print(result+s)"
   ]
  },
  {
   "cell_type": "code",
   "execution_count": 375,
   "metadata": {},
   "outputs": [
    {
     "name": "stdout",
     "output_type": "stream",
     "text": [
      "(0, 1, 1, 0, 0, 1, 0, 0, 1, 0, 0, 0)\n",
      "Расшиернный вектор : (0, 1, 1, 0, 0, 1, 0, 0, 1, 0, 0, 0, 0, 0, 0, 0)\n",
      "S(x) = (a + 1)*x^2 + (a^3 + a^2)*x + a\n",
      "T(x) = (a^3 + a)*x^2 + (a^3 + 1)*x + a^2\n",
      "T(x)*S(x) mod G(x) = 1\n",
      "P(x) = (a^3 + a)*x^2 + (a^2 + 1)*x + a\n",
      "a(x) = (a^2 + a + 1)*x + a^3 + a^2 + 1\n",
      "b(x) = (a^3 + a^2)*x + a^2 + a\n",
      "Sigma(x) = (a^3 + a^2 + a + 1)*x^3 + (a^2 + a)*x^2 + (a^2 + a + 1)*x + a^3 + a^2 + a\n",
      "Корни [1, a + 1, a^2 + a + 1]\n",
      "v (0, 1, 1, 0, 0, 1, 0, 0, 1, 0, 0, 0, 0, 0, 0, 0)\n",
      "c (0, 0, 0, 0, 1, 0, 0, 0, 0, 0, 1, 0, 0, 0, 0, 1)\n",
      "(0, 0, 0, 0, 1, 0, 0, 0, 0, 0, 1, 0, 0, 0, 0, 1)\n"
     ]
    }
   ],
   "source": [
    "decoder_Patterson(g,c0)"
   ]
  }
 ],
 "metadata": {
  "kernelspec": {
   "display_name": "SageMath 9.2",
   "language": "sage",
   "name": "sagemath"
  },
  "language_info": {
   "codemirror_mode": {
    "name": "ipython",
    "version": 3
   },
   "file_extension": ".py",
   "mimetype": "text/x-python",
   "name": "python",
   "nbconvert_exporter": "python",
   "pygments_lexer": "ipython3",
   "version": "3.7.7"
  }
 },
 "nbformat": 4,
 "nbformat_minor": 4
}
