{
 "cells": [
  {
   "cell_type": "code",
   "execution_count": 4,
   "metadata": {},
   "outputs": [
    {
     "name": "stdout",
     "output_type": "stream",
     "text": [
      "(1) * (x + 1) * (x^5 + x^2 + 1) * (x^5 + x^3 + 1) * (x^5 + x^3 + x^2 + x + 1) * (x^5 + x^4 + x^2 + x + 1) * (x^5 + x^4 + x^3 + x + 1) * (x^5 + x^4 + x^3 + x^2 + 1)\n"
     ]
    }
   ],
   "source": [
    "F = PolynomialRing(GF(64),'x')\n",
    "R.<x>=F[]\n",
    "f=factor(x^31+1)\n",
    "print(f)"
   ]
  },
  {
   "cell_type": "code",
   "execution_count": 45,
   "metadata": {},
   "outputs": [
    {
     "name": "stdout",
     "output_type": "stream",
     "text": [
      "a^ 0 0\n",
      "a^ 1 a\n",
      "a^ 2 a^2\n",
      "a^ 3 a^3\n",
      "a^ 4 a^4\n",
      "a^ 5 a^2 + 1\n",
      "a^ 6 a^3 + a\n",
      "a^ 7 a^4 + a^2\n",
      "a^ 8 a^3 + a^2 + 1\n",
      "a^ 9 a^4 + a^3 + a\n",
      "a^ 10 a^4 + 1\n",
      "a^ 11 a^2 + a + 1\n",
      "a^ 12 a^3 + a^2 + a\n",
      "a^ 13 a^4 + a^3 + a^2\n",
      "a^ 14 a^4 + a^3 + a^2 + 1\n",
      "a^ 15 a^4 + a^3 + a^2 + a + 1\n",
      "a^ 16 a^4 + a^3 + a + 1\n",
      "a^ 17 a^4 + a + 1\n",
      "a^ 18 a + 1\n",
      "a^ 19 a^2 + a\n",
      "a^ 20 a^3 + a^2\n",
      "a^ 21 a^4 + a^3\n",
      "a^ 22 a^4 + a^2 + 1\n",
      "a^ 23 a^3 + a^2 + a + 1\n",
      "a^ 24 a^4 + a^3 + a^2 + a\n",
      "a^ 25 a^4 + a^3 + 1\n",
      "a^ 26 a^4 + a^2 + a + 1\n",
      "a^ 27 a^3 + a + 1\n",
      "a^ 28 a^4 + a^2 + a\n",
      "a^ 29 a^3 + 1\n",
      "a^ 30 a^4 + a\n",
      "a^ 31 1\n"
     ]
    }
   ],
   "source": [
    "L = GF(2^5,'a').list()\n",
    "for i in range(len(L)):\n",
    "    print('a^',i,L[i])"
   ]
  },
  {
   "cell_type": "code",
   "execution_count": 35,
   "metadata": {},
   "outputs": [
    {
     "name": "stdout",
     "output_type": "stream",
     "text": [
      "x^10 + x^9 + x^8 + x^6 + x^5 + x^3 + 1\n",
      "[(z5, 1), (z5^2, 1), (z5^3, 1), (z5^3 + z5, 1), (z5^3 + z5^2 + 1, 1), (z5^3 + z5^2 + z5, 1), (z5^4, 1), (z5^4 + z5 + 1, 1), (z5^4 + z5^3 + z5 + 1, 1), (z5^4 + z5^3 + z5^2 + z5, 1)]\n"
     ]
    }
   ],
   "source": [
    "g = (x^5+x^2+1)*(x^5+x^4+x^3+x^2+1)\n",
    "print(g)\n",
    "print(g.roots())"
   ]
  },
  {
   "cell_type": "code",
   "execution_count": 36,
   "metadata": {},
   "outputs": [
    {
     "name": "stdout",
     "output_type": "stream",
     "text": [
      "x^21 + x^20 + x^18 + x^16 + x^14 + x^13 + x^12 + x^11 + x^8 + x^5 + x^3 + 1\n"
     ]
    }
   ],
   "source": [
    "h=(x^31+1)/g\n",
    "print(h)"
   ]
  },
  {
   "cell_type": "code",
   "execution_count": 55,
   "metadata": {},
   "outputs": [
    {
     "name": "stdout",
     "output_type": "stream",
     "text": [
      "Univariate Polynomial Ring in x over Finite Field in z5 of size 2^5\n",
      "x^20 + 1\n",
      "(1, 0, 0, 1, 0, 1, 1, 0, 1, 1, 1, 0, 0, 0, 0, 0, 0, 0, 0, 0, 1, 0, 0, 1, 0, 1, 1, 0, 1, 1, 1)\n"
     ]
    }
   ],
   "source": [
    "F.<x> = GF(2^5)[]\n",
    "print(F)\n",
    "n = 31\n",
    "g = (x^5+x^4+x^3+x^2+1)*(x^5+x^2+1)\n",
    "C = codes.CyclicCode(generator_pol = g, length = n)\n",
    "E = codes.encoders.CyclicCodePolynomialEncoder(C)\n",
    "v = x^20+1\n",
    "print(v)\n",
    "z = E.encode(v)\n",
    "print(z)"
   ]
  },
  {
   "cell_type": "code",
   "execution_count": 67,
   "metadata": {},
   "outputs": [
    {
     "name": "stdout",
     "output_type": "stream",
     "text": [
      "[1 0 0 1 0 1 1 0 1 1 1 0 0 0 0 0 0 0 0 0 0 0 0 0 0 0 0 0 0 0 0]\n",
      "[0 1 0 0 1 0 1 1 0 1 1 1 0 0 0 0 0 0 0 0 0 0 0 0 0 0 0 0 0 0 0]\n",
      "[0 0 1 0 0 1 0 1 1 0 1 1 1 0 0 0 0 0 0 0 0 0 0 0 0 0 0 0 0 0 0]\n",
      "[0 0 0 1 0 0 1 0 1 1 0 1 1 1 0 0 0 0 0 0 0 0 0 0 0 0 0 0 0 0 0]\n",
      "[0 0 0 0 1 0 0 1 0 1 1 0 1 1 1 0 0 0 0 0 0 0 0 0 0 0 0 0 0 0 0]\n",
      "[0 0 0 0 0 1 0 0 1 0 1 1 0 1 1 1 0 0 0 0 0 0 0 0 0 0 0 0 0 0 0]\n",
      "[0 0 0 0 0 0 1 0 0 1 0 1 1 0 1 1 1 0 0 0 0 0 0 0 0 0 0 0 0 0 0]\n",
      "[0 0 0 0 0 0 0 1 0 0 1 0 1 1 0 1 1 1 0 0 0 0 0 0 0 0 0 0 0 0 0]\n",
      "[0 0 0 0 0 0 0 0 1 0 0 1 0 1 1 0 1 1 1 0 0 0 0 0 0 0 0 0 0 0 0]\n",
      "[0 0 0 0 0 0 0 0 0 1 0 0 1 0 1 1 0 1 1 1 0 0 0 0 0 0 0 0 0 0 0]\n",
      "[0 0 0 0 0 0 0 0 0 0 1 0 0 1 0 1 1 0 1 1 1 0 0 0 0 0 0 0 0 0 0]\n",
      "[0 0 0 0 0 0 0 0 0 0 0 1 0 0 1 0 1 1 0 1 1 1 0 0 0 0 0 0 0 0 0]\n",
      "[0 0 0 0 0 0 0 0 0 0 0 0 1 0 0 1 0 1 1 0 1 1 1 0 0 0 0 0 0 0 0]\n",
      "[0 0 0 0 0 0 0 0 0 0 0 0 0 1 0 0 1 0 1 1 0 1 1 1 0 0 0 0 0 0 0]\n",
      "[0 0 0 0 0 0 0 0 0 0 0 0 0 0 1 0 0 1 0 1 1 0 1 1 1 0 0 0 0 0 0]\n",
      "[0 0 0 0 0 0 0 0 0 0 0 0 0 0 0 1 0 0 1 0 1 1 0 1 1 1 0 0 0 0 0]\n",
      "[0 0 0 0 0 0 0 0 0 0 0 0 0 0 0 0 1 0 0 1 0 1 1 0 1 1 1 0 0 0 0]\n",
      "[0 0 0 0 0 0 0 0 0 0 0 0 0 0 0 0 0 1 0 0 1 0 1 1 0 1 1 1 0 0 0]\n",
      "[0 0 0 0 0 0 0 0 0 0 0 0 0 0 0 0 0 0 1 0 0 1 0 1 1 0 1 1 1 0 0]\n",
      "[0 0 0 0 0 0 0 0 0 0 0 0 0 0 0 0 0 0 0 1 0 0 1 0 1 1 0 1 1 1 0]\n",
      "[0 0 0 0 0 0 0 0 0 0 0 0 0 0 0 0 0 0 0 0 1 0 0 1 0 1 1 0 1 1 1]\n"
     ]
    }
   ],
   "source": [
    "print(C.generator_matrix())"
   ]
  },
  {
   "cell_type": "code",
   "execution_count": 10,
   "metadata": {},
   "outputs": [],
   "source": [
    "def getvector(vec,number):\n",
    "    for i in range(21):\n",
    "        temp=pow(2,20-i)\n",
    "        if temp<=number:\n",
    "            vec[i]=1\n",
    "            number-=temp\n",
    "        else:\n",
    "            vec[i]=0\n",
    "    return vec"
   ]
  },
  {
   "cell_type": "code",
   "execution_count": 17,
   "metadata": {},
   "outputs": [
    {
     "name": "stdout",
     "output_type": "stream",
     "text": [
      "Кодовые слова:\n",
      "(1, 1, 0, 0, 0, 0, 0, 1, 1, 0, 1, 0, 1, 0, 0, 1, 0, 0, 1, 1, 1, 0, 0, 0, 0, 1, 1, 1, 1, 0, 0)\n",
      "(0, 0, 0, 0, 1, 0, 1, 0, 0, 0, 1, 1, 0, 0, 0, 0, 1, 1, 0, 0, 0, 0, 1, 0, 1, 0, 0, 1, 1, 0, 1)\n",
      "(0, 0, 0, 0, 1, 0, 0, 1, 0, 1, 1, 0, 1, 1, 1, 1, 1, 0, 0, 0, 1, 1, 0, 0, 0, 1, 0, 0, 0, 1, 0)\n",
      "(0, 0, 1, 0, 1, 0, 1, 0, 1, 1, 1, 0, 1, 1, 1, 0, 1, 0, 1, 1, 0, 0, 0, 1, 0, 1, 0, 0, 1, 1, 0)\n",
      "(0, 0, 1, 1, 1, 1, 0, 0, 1, 0, 1, 1, 0, 1, 1, 0, 1, 0, 0, 0, 0, 0, 0, 1, 1, 1, 0, 1, 0, 1, 1)\n",
      "(0, 0, 0, 0, 1, 0, 1, 1, 1, 0, 1, 1, 1, 1, 0, 1, 0, 1, 1, 0, 1, 1, 0, 1, 0, 1, 1, 1, 1, 0, 0)\n",
      "(1, 1, 1, 1, 0, 0, 1, 0, 0, 1, 1, 1, 1, 0, 1, 0, 0, 1, 1, 1, 1, 0, 1, 0, 0, 1, 1, 0, 0, 1, 1)\n",
      "(1, 0, 0, 1, 0, 0, 1, 1, 0, 0, 1, 1, 1, 0, 1, 0, 0, 1, 1, 1, 1, 1, 0, 1, 1, 0, 1, 0, 1, 0, 0)\n",
      "(1, 1, 0, 1, 1, 1, 0, 0, 1, 0, 0, 1, 0, 0, 1, 1, 0, 0, 1, 0, 1, 0, 1, 0, 0, 0, 1, 0, 0, 1, 1)\n",
      "(1, 1, 1, 1, 0, 1, 1, 0, 0, 0, 0, 0, 1, 1, 0, 1, 1, 1, 0, 1, 0, 0, 1, 1, 0, 1, 0, 0, 0, 0, 0)\n"
     ]
    }
   ],
   "source": [
    "G=C.generator_matrix()\n",
    "v=vector(GF(2),[0,0,0,0,0,0,0,0,0,0,0,0,0,0,0,0,0,0,0,0,0])\n",
    "print('Кодовые слова:')\n",
    "for i in range(10):\n",
    "    number=randint(0,pow(2,21)-1)\n",
    "    temp=getvector(v,number)\n",
    "    print(temp*G)"
   ]
  },
  {
   "cell_type": "code",
   "execution_count": 18,
   "metadata": {},
   "outputs": [
    {
     "data": {
      "text/plain": [
       "2"
      ]
     },
     "execution_count": 18,
     "metadata": {},
     "output_type": "execute_result"
    }
   ],
   "source": [
    "D = codes.decoders.CyclicCodeSurroundingBCHDecoder(C)\n",
    "D.decoding_radius()"
   ]
  },
  {
   "cell_type": "code",
   "execution_count": 97,
   "metadata": {},
   "outputs": [
    {
     "name": "stdout",
     "output_type": "stream",
     "text": [
      "(0, 0, 0, 1, 1, 0, 0, 0, 0, 1, 1, 0, 0, 0, 1, 1, 1, 0, 0, 1, 1, 0, 1, 1, 1, 1, 0, 1, 1, 0, 0)\n",
      "(0, 0, 0, 1, 1, 0, 1, 1, 1, 0, 1, 1, 0, 1, 1, 0, 1, 0, 1, 0, 0)\n"
     ]
    }
   ],
   "source": [
    "w_err=vector([0, 0, 0, 1, 1, 0, 0, 0, 0, 1, 1, 0, 0, 0, 1, 1, 1, 0, 0, 1, 1, 0, 1, 1, 1, 1, 0, 1, 1, 1, 1]) # две ошибки в конце 00 - 11\n",
    "print(D.decode_to_code(w_err))\n",
    "print(D.decode_to_message(w_err))"
   ]
  },
  {
   "cell_type": "code",
   "execution_count": null,
   "metadata": {},
   "outputs": [],
   "source": []
  }
 ],
 "metadata": {
  "kernelspec": {
   "display_name": "SageMath 9.2",
   "language": "sage",
   "name": "sagemath"
  },
  "language_info": {
   "codemirror_mode": {
    "name": "ipython",
    "version": 3
   },
   "file_extension": ".py",
   "mimetype": "text/x-python",
   "name": "python",
   "nbconvert_exporter": "python",
   "pygments_lexer": "ipython3",
   "version": "3.7.7"
  }
 },
 "nbformat": 4,
 "nbformat_minor": 4
}
