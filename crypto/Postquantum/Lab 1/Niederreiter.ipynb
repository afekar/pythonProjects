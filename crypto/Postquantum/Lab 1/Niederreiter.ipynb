{
 "cells": [
  {
   "cell_type": "code",
   "execution_count": 3,
   "metadata": {},
   "outputs": [
    {
     "name": "stdout",
     "output_type": "stream",
     "text": [
      "Finite Field of size 11\n"
     ]
    }
   ],
   "source": [
    "q = 11\n",
    "F = GF(q)\n",
    "print(F)\n",
    "g=2\n",
    "n, k = 11, 5\n",
    "C = codes.GeneralizedReedSolomonCode(F.list()[:n], k)\n",
    "G = C.generator_matrix()\n",
    "H = C.parity_check_matrix()\n",
    "D = C.decoder()"
   ]
  },
  {
   "cell_type": "code",
   "execution_count": 4,
   "metadata": {},
   "outputs": [
    {
     "name": "stdout",
     "output_type": "stream",
     "text": [
      "[ 1  1  1  1  1  1  1  1  1  1  1]\n",
      "[ 0  1  2  3  4  5  6  7  8  9 10]\n",
      "[ 0  1  4  9  5  3  3  5  9  4  1]\n",
      "[ 0  1  8  5  9  4  7  2  6  3 10]\n",
      "[ 0  1  5  4  3  9  9  3  4  5  1]\n"
     ]
    }
   ],
   "source": [
    "print(G)"
   ]
  },
  {
   "cell_type": "code",
   "execution_count": 5,
   "metadata": {},
   "outputs": [
    {
     "name": "stdout",
     "output_type": "stream",
     "text": [
      "[10 10 10 10 10 10 10 10 10 10 10]\n",
      "[ 0 10  9  8  7  6  5  4  3  2  1]\n",
      "[ 0 10  7  2  6  8  8  6  2  7 10]\n",
      "[ 0 10  3  6  2  7  4  9  5  8  1]\n",
      "[ 0 10  6  7  8  2  2  8  7  6 10]\n",
      "[ 0 10  1 10 10 10  1  1  1 10  1]\n"
     ]
    }
   ],
   "source": [
    "print(H)"
   ]
  },
  {
   "cell_type": "code",
   "execution_count": 6,
   "metadata": {},
   "outputs": [
    {
     "name": "stdout",
     "output_type": "stream",
     "text": [
      "7\n",
      "3\n"
     ]
    }
   ],
   "source": [
    "print(C.minimum_distance())\n",
    "t=(C.minimum_distance()-1)//2\n",
    "print(t)"
   ]
  },
  {
   "cell_type": "code",
   "execution_count": 7,
   "metadata": {},
   "outputs": [],
   "source": [
    "def getvector(vec,number,k):\n",
    "    for i in range(k):\n",
    "        temp=pow(2,k-1-i)\n",
    "        if temp<=number:\n",
    "            vec[i]=1\n",
    "            number-=temp\n",
    "        else:\n",
    "            vec[i]=0\n",
    "    return vec\n",
    "def swap_cols(M,col1,col2,dim):\n",
    "    for i in range(dim):\n",
    "        if M[i][col1]==1:\n",
    "            temp1=i\n",
    "        if M[i][col2]==1:\n",
    "            temp2=i \n",
    "    M[temp1][col2]=1\n",
    "    M[temp2][col2]=0\n",
    "    M[temp2][col1]=1\n",
    "    M[temp1][col1]=0\n",
    "    return M"
   ]
  },
  {
   "cell_type": "code",
   "execution_count": 8,
   "metadata": {},
   "outputs": [],
   "source": [
    "S_=[[0 for y in range(n-k)] for x in range(n-k)]\n",
    "for i in range(n-k):\n",
    "    for j in range(n-k):\n",
    "        if (i==j):\n",
    "            S_[i][j]=1\n",
    "        elif (i<j):\n",
    "            S_[i][j]=randint(0,q-1)\n",
    "        else:\n",
    "            S_[i][j]=0"
   ]
  },
  {
   "cell_type": "code",
   "execution_count": 9,
   "metadata": {},
   "outputs": [
    {
     "name": "stdout",
     "output_type": "stream",
     "text": [
      "[ 1  5  3  0 10  7]\n",
      "[ 0  1  8 10  1  3]\n",
      "[ 0  0  1  7  9  7]\n",
      "[ 0  0  0  1  8  1]\n",
      "[ 0  0  0  0  1  4]\n",
      "[ 0  0  0  0  0  1]\n",
      "\n",
      "[ 1  6  4  0  3  1]\n",
      "[ 0  1  3  2  0  7]\n",
      "[ 0  0  1  4  3 10]\n",
      "[ 0  0  0  1  3  9]\n",
      "[ 0  0  0  0  1  7]\n",
      "[ 0  0  0  0  0  1]\n"
     ]
    }
   ],
   "source": [
    "S=Matrix(GF(q),S_)\n",
    "print(S)\n",
    "print()\n",
    "s_inv = S.inverse()\n",
    "print(s_inv)\n"
   ]
  },
  {
   "cell_type": "code",
   "execution_count": 10,
   "metadata": {},
   "outputs": [
    {
     "name": "stdout",
     "output_type": "stream",
     "text": [
      "[0 0 0 0 0 1 0 0 0 0 0]\n",
      "[1 0 0 0 0 0 0 0 0 0 0]\n",
      "[0 0 1 0 0 0 0 0 0 0 0]\n",
      "[0 0 0 0 0 0 0 0 1 0 0]\n",
      "[0 0 0 0 1 0 0 0 0 0 0]\n",
      "[0 0 0 0 0 0 1 0 0 0 0]\n",
      "[0 0 0 0 0 0 0 1 0 0 0]\n",
      "[0 1 0 0 0 0 0 0 0 0 0]\n",
      "[0 0 0 0 0 0 0 0 0 0 1]\n",
      "[0 0 0 1 0 0 0 0 0 0 0]\n",
      "[0 0 0 0 0 0 0 0 0 1 0]\n"
     ]
    }
   ],
   "source": [
    "P_=[[0 for y in range(n)] for x in range(n)]\n",
    "for i in range(n):\n",
    "    for j in range(n):\n",
    "        if (i==j):\n",
    "            P_[i][j]=1\n",
    "P=Matrix(GF(q),P_)\n",
    "for i in range(len(P_)):\n",
    "    k1=randint(0,len(P_)-1)\n",
    "    k2=randint(0,len(P_)-1)\n",
    "    if k2!=k1:\n",
    "        swap_cols(P_,k1,k2,len(P_))\n",
    "P=Matrix(GF(q),P_)\n",
    "print(P)\n",
    "p_inv=P.inverse()"
   ]
  },
  {
   "cell_type": "code",
   "execution_count": 11,
   "metadata": {
    "scrolled": true
   },
   "outputs": [
    {
     "name": "stdout",
     "output_type": "stream",
     "text": [
      "[ 7  3  0  6  4 10  0  9  9  9  9]\n",
      "[10 10  5  9  3  0  7  4  0  5  2]\n",
      "[ 9  5  1  0  8  0  2  6  1  4  8]\n",
      "[ 1  8  8  0 10  0  0 10  6  5  7]\n",
      "[ 6  1 10  2  4  0  9  6  3  3  0]\n",
      "[10  1  1 10 10  0 10  1 10  1  1]\n",
      "[ 7 10  9  1  6 10]\n",
      "[ 3 10  5  8  1  1]\n",
      "[ 0  5  1  8 10  1]\n",
      "[ 6  9  0  0  2 10]\n",
      "[ 4  3  8 10  4 10]\n",
      "[10  0  0  0  0  0]\n",
      "[ 0  7  2  0  9 10]\n",
      "[ 9  4  6 10  6  1]\n",
      "[ 9  0  1  6  3 10]\n",
      "[ 9  5  4  5  3  1]\n",
      "[ 9  2  8  7  0  1]\n"
     ]
    }
   ],
   "source": [
    "H_pub = S*H*P\n",
    "print(H_pub)\n",
    "H_pub_t = H_pub.transpose()\n",
    "print(H_pub_t)"
   ]
  },
  {
   "cell_type": "code",
   "execution_count": 92,
   "metadata": {},
   "outputs": [
    {
     "name": "stdout",
     "output_type": "stream",
     "text": [
      "message (9, 0, 0, 0, 0, 0, 0, 1, 0, 4, 0)\n"
     ]
    }
   ],
   "source": [
    "message = vector([0 for y in range(n)])\n",
    "for i in range(t):\n",
    "    temp = randint(0,n-1)\n",
    "    if message[temp]!=0:\n",
    "        while True:\n",
    "            temp = randint(0,n-1)\n",
    "            if message[temp]!=0:\n",
    "                break\n",
    "    message[temp]=randint(1,n-1)\n",
    "print('message',message)"
   ]
  },
  {
   "cell_type": "code",
   "execution_count": 93,
   "metadata": {},
   "outputs": [
    {
     "name": "stdout",
     "output_type": "stream",
     "text": [
      "(9, 4, 4, 6, 6, 7)\n"
     ]
    }
   ],
   "source": [
    "cipher = message*H_pub_t\n",
    "print(cipher)"
   ]
  },
  {
   "cell_type": "code",
   "execution_count": 94,
   "metadata": {},
   "outputs": [],
   "source": [
    "import numpy \n",
    "def GRS_sindrom_decoder(c,s_inv,p_inv,code,t,q,g):\n",
    "    s = c*transpose(s_inv)\n",
    "    print('Синдромы',s)\n",
    "    det = 0\n",
    "    while det == 0:\n",
    "        M=([[0 for y in range(t)] for x in range(t)])\n",
    "        for i in range(t):\n",
    "            for j in range(t):\n",
    "                M[i][j] =s[i+j]\n",
    "        M_res = Matrix(GF(q),M)\n",
    "        det = M_res.det()\n",
    "        v = t\n",
    "        t-=1\n",
    "    print(M_res)\n",
    "    print('Определитель',det)\n",
    "    print('Ошибок -',v)\n",
    "    M_res = M_res.inverse()\n",
    "    print(M_res)\n",
    "    print('Mv^-1')\n",
    "    M_res=M_res.transpose()\n",
    "    print(M_res)\n",
    "    delta =0\n",
    "    print(-s[v:2*v])\n",
    "    delta = -s[v:2*v]*M_res\n",
    "    print('delta',delta)\n",
    "    x = PolynomialRing(GF(q), 'x').gen()\n",
    "    delta_pol = 0\n",
    "    for i in range(0, v):\n",
    "            delta_pol += delta[i]*x^(v-i)\n",
    "    print('delta',delta)\n",
    "    delta_pol+=1\n",
    "    print('Многочлен локаторов', delta_pol)\n",
    "    roots = [r for r, i in delta_pol.roots()]\n",
    "    print('Корни',roots)\n",
    "    roots_= [r^-1 for r, i in delta_pol.roots()]\n",
    "    print('roots_',roots_)\n",
    "    system = matrix(GF(q), [[roots_[i]^j for i in range(v)] for j in range(v)])\n",
    "    y = system.solve_right(s[0:v])\n",
    "    print(system)\n",
    "    print('Значения ошибок',y)\n",
    "    e = vector(GF(q),n)\n",
    "    for i in range(v):\n",
    "        e[roots_[i]] = -y[i]\n",
    "    print('Вектор ошибки',e)\n",
    "    e = e * transpose(p_inv)\n",
    "    print(e)\n",
    "    "
   ]
  },
  {
   "cell_type": "code",
   "execution_count": 95,
   "metadata": {},
   "outputs": [
    {
     "name": "stdout",
     "output_type": "stream",
     "text": [
      "Синдромы (8, 0, 6, 10, 0, 7)\n",
      "[ 8  0  6]\n",
      "[ 0  6 10]\n",
      "[ 6 10  0]\n",
      "Определитель 7\n",
      "Ошибок - 3\n",
      "[ 3  7  9]\n",
      "[ 7  9  9]\n",
      "[ 9  9 10]\n",
      "Mv^-1\n",
      "[ 3  7  9]\n",
      "[ 7  9  9]\n",
      "[ 9  9 10]\n",
      "(1, 0, 4)\n",
      "delta (6, 10, 5)\n",
      "delta (6, 10, 5)\n",
      "Многочлен локаторов 6*x^3 + 10*x^2 + 5*x + 1\n",
      "Корни [10, 2, 1]\n",
      "roots_ [10, 6, 1]\n",
      "[ 1  1  1]\n",
      "[10  6  1]\n",
      "[ 1  3  1]\n",
      "Значения ошибок (7, 10, 2)\n",
      "Вектор ошибки (0, 9, 0, 0, 0, 0, 1, 0, 0, 0, 4)\n",
      "(9, 0, 0, 0, 0, 0, 0, 1, 0, 4, 0)\n"
     ]
    }
   ],
   "source": [
    "GRS_sindrom_decoder(cipher,s_inv,p_inv,C,t,q,g)"
   ]
  },
  {
   "cell_type": "code",
   "execution_count": null,
   "metadata": {},
   "outputs": [],
   "source": []
  }
 ],
 "metadata": {
  "kernelspec": {
   "display_name": "SageMath 9.2",
   "language": "sage",
   "name": "sagemath"
  },
  "language_info": {
   "codemirror_mode": {
    "name": "ipython",
    "version": 3
   },
   "file_extension": ".py",
   "mimetype": "text/x-python",
   "name": "python",
   "nbconvert_exporter": "python",
   "pygments_lexer": "ipython3",
   "version": "3.7.7"
  }
 },
 "nbformat": 4,
 "nbformat_minor": 4
}
