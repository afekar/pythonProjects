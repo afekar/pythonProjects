{
 "cells": [
  {
   "cell_type": "code",
   "execution_count": 2,
   "metadata": {},
   "outputs": [
    {
     "name": "stdout",
     "output_type": "stream",
     "text": [
      "4477\n"
     ]
    }
   ],
   "source": [
    "p = 11\n",
    "q = 37\n",
    "n = p^2*q\n",
    "print(n)"
   ]
  },
  {
   "cell_type": "code",
   "execution_count": 3,
   "metadata": {},
   "outputs": [
    {
     "name": "stdout",
     "output_type": "stream",
     "text": [
      "20\n",
      "1234\n",
      "13\n"
     ]
    }
   ],
   "source": [
    "x0 = randint(1,floor(pow(p*q,0.5)))+randint(2,p-1)*p*q\n",
    "print(floor(pow(p*q,0.5)))\n",
    "print(x0)\n",
    "print(x0%(p*q))"
   ]
  },
  {
   "cell_type": "code",
   "execution_count": 4,
   "metadata": {},
   "outputs": [
    {
     "data": {
      "text/plain": [
       "[   1    0]\n",
       "[   0 4477]"
      ]
     },
     "execution_count": 4,
     "metadata": {},
     "output_type": "execute_result"
    }
   ],
   "source": [
    "M = Matrix([[1,0],[2*x0,n]])\n",
    "M.LLL()"
   ]
  },
  {
   "cell_type": "code",
   "execution_count": 5,
   "metadata": {},
   "outputs": [
    {
     "name": "stdout",
     "output_type": "stream",
     "text": [
      "[   1    0]\n",
      "[2468 4477]\n"
     ]
    }
   ],
   "source": [
    "print(M)"
   ]
  },
  {
   "cell_type": "code",
   "execution_count": 6,
   "metadata": {},
   "outputs": [
    {
     "data": {
      "text/plain": [
       "[   1    0]\n",
       "[   0 4477]"
      ]
     },
     "execution_count": 6,
     "metadata": {},
     "output_type": "execute_result"
    }
   ],
   "source": [
    "M.LLL()"
   ]
  },
  {
   "cell_type": "code",
   "execution_count": 8,
   "metadata": {},
   "outputs": [
    {
     "name": "stdout",
     "output_type": "stream",
     "text": [
      "[ 11   0]\n",
      "[  4 406]\n"
     ]
    }
   ],
   "source": [
    "k0=1\n",
    "while True:\n",
    "    k0=1.01*k0\n",
    "    k1=1/k0\n",
    "    L = Matrix(ZZ,[[floor(k0),0],[floor(2*x0*k1),floor(n*k1)]])\n",
    "    L1 = L.LLL()\n",
    "    if (L1[0][0]==p):\n",
    "        print(L1)\n",
    "        break"
   ]
  },
  {
   "cell_type": "code",
   "execution_count": 89,
   "metadata": {},
   "outputs": [
    {
     "name": "stdout",
     "output_type": "stream",
     "text": [
      "p = 229\n",
      "q = 1013\n",
      "u = 12759117\n",
      "N = 53122733\n"
     ]
    }
   ],
   "source": [
    "q=random_prime(2^10)\n",
    "p=random_prime(q)\n",
    "N=p^2*q\n",
    "a=randint(0,floor(pow(p*q,0.5)))\n",
    "b=randint(0,p-1)\n",
    "u = a + b*p*q\n",
    "print('p =',p)\n",
    "print('q =',q)\n",
    "print('u =',u)\n",
    "print('N =',N)"
   ]
  },
  {
   "cell_type": "code",
   "execution_count": 90,
   "metadata": {},
   "outputs": [
    {
     "name": "stdout",
     "output_type": "stream",
     "text": [
      "228\n",
      "[     13  979278]\n",
      "[      0 4077237]\n",
      "[-2977 -6627]\n",
      "[-5629  5274]\n",
      "13.0291005568625\n",
      "228\n",
      "[     16  794616]\n",
      "[      0 3308393]\n",
      "[-3664 -5449]\n",
      "[-6928  4144]\n",
      "16.0569585162538\n",
      "228\n",
      "[     17  748564]\n",
      "[      0 3116656]\n",
      "[-3893 -5076]\n",
      "[-7361  4012]\n",
      "17.0447850223677\n",
      "228\n",
      "[     19  670955]\n",
      "[      0 2793532]\n",
      "[-4351 -4435]\n",
      "[-8227  3813]\n",
      "19.0163271251707\n",
      "228\n",
      "[     21  607407]\n",
      "[      0 2528948]\n",
      "[-4809 -4063]\n",
      "[-4284  7424]\n",
      "21.0058556865208\n",
      "228\n",
      "[     22  577927]\n",
      "[      0 2406207]\n",
      "[-5038 -3898]\n",
      "[-4488  7035]\n",
      "22.0773654374836\n",
      "228\n",
      "[     28  455156]\n",
      "[      0 1895047]\n",
      "[-6412 -3139]\n",
      "[-5712  5479]\n",
      "28.0323958442739\n",
      "228\n",
      "[     30  424532]\n",
      "[      0 1767545]\n",
      "[-6870 -2853]\n",
      "[-6120  5177]\n",
      "30.0545225889037\n"
     ]
    },
    {
     "name": "stderr",
     "output_type": "stream",
     "text": [
      "/opt/sagemath-9.2/local/lib/python3.7/site-packages/sage/repl/ipython_kernel/__main__.py:1: DeprecationWarning: use .log() or log() from sage.functions.log instead\n",
      "See http://trac.sagemath.org/19444 for details.\n",
      "  from ipykernel.kernelapp import IPKernelApp\n"
     ]
    }
   ],
   "source": [
    "for i in range(1,int(log_b(N^(1/3),1.01))):\n",
    "    k0=1.01^i\n",
    "    k1=1/k0\n",
    "    L = Matrix(QQ,[[floor(k0),floor(u*k1)],[0,floor(N*k1)]])\n",
    "    L1 = L.LLL(algorithm = 'NTL:LLL', fp='ld')\n",
    "    p1 = floor(abs(L1[0][0])/k0)\n",
    "    if p1<=2:\n",
    "        break\n",
    "    if (N%p1 == 0 or N%(p1+1) == 0 or N%(p1-1) == 0):\n",
    "        print(p1)\n",
    "        print(L)\n",
    "        print(L1)\n",
    "        print(k0)"
   ]
  },
  {
   "cell_type": "code",
   "execution_count": 130,
   "metadata": {},
   "outputs": [
    {
     "name": "stdout",
     "output_type": "stream",
     "text": [
      "[-2977 -6627]\n",
      "[-5629  5274]\n"
     ]
    }
   ],
   "source": [
    "k0=13.0291005568625\n",
    "k1 = 1/k0\n",
    "L = Matrix(QQ,[[floor(k0),floor(u*k1)],[0,floor(N*k1)]])\n",
    "L1 = L.LLL()\n",
    "print(L1)"
   ]
  },
  {
   "cell_type": "code",
   "execution_count": 131,
   "metadata": {
    "scrolled": true
   },
   "outputs": [
    {
     "data": {
      "text/plain": [
       "228.488527431926"
      ]
     },
     "execution_count": 131,
     "metadata": {},
     "output_type": "execute_result"
    }
   ],
   "source": [
    "abs(L1[0][0])*k1"
   ]
  },
  {
   "cell_type": "code",
   "execution_count": null,
   "metadata": {},
   "outputs": [],
   "source": []
  }
 ],
 "metadata": {
  "kernelspec": {
   "display_name": "SageMath 9.2",
   "language": "sage",
   "name": "sagemath"
  },
  "language_info": {
   "codemirror_mode": {
    "name": "ipython",
    "version": 3
   },
   "file_extension": ".py",
   "mimetype": "text/x-python",
   "name": "python",
   "nbconvert_exporter": "python",
   "pygments_lexer": "ipython3",
   "version": "3.7.7"
  }
 },
 "nbformat": 4,
 "nbformat_minor": 4
}
